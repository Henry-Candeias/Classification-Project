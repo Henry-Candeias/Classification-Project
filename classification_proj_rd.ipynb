{
 "cells": [
  {
   "cell_type": "markdown",
   "id": "d9ddd584",
   "metadata": {},
   "source": [
    "# Classification Project"
   ]
  },
  {
   "cell_type": "markdown",
   "id": "d82fc88e",
   "metadata": {},
   "source": [
    "## Goals\n",
    "    - Discover drivers of churn in telco customer data.\n",
    "    - Use drivers to develop a machine learning model to classify customers that end up churning or not churning."
   ]
  },
  {
   "cell_type": "markdown",
   "id": "421e2444",
   "metadata": {},
   "source": [
    "## Imports"
   ]
  },
  {
   "cell_type": "code",
   "execution_count": 63,
   "id": "251c61c1",
   "metadata": {},
   "outputs": [],
   "source": [
    "# custom modules for data prep:\n",
    "import acquire as a\n",
    "import prepare as p\n",
    "\n",
    "# tabular manipulation:\n",
    "import numpy as np\n",
    "import pandas as pd\n",
    "\n",
    "# ML imports:\n",
    "from sklearn.metrics import accuracy_score, precision_score, recall_score, classification_report\n",
    "from sklearn.tree import DecisionTreeClassifier, \\\n",
    "export_text, plot_tree\n",
    "from sklearn.linear_model import LogisticRegression\n",
    "from sklearn.preprocessing import OneHotEncoder\n",
    "\n",
    "# imports Random Forest model from sklearn:\n",
    "from sklearn.ensemble import RandomForestClassifier\n",
    "\n",
    "# visualization:\n",
    "import matplotlib.pyplot as plt\n",
    "import seaborn as sns\n",
    "\n",
    "# stats:\n",
    "from scipy import stats"
   ]
  },
  {
   "cell_type": "code",
   "execution_count": null,
   "id": "7c6b293f",
   "metadata": {},
   "outputs": [],
   "source": []
  },
  {
   "cell_type": "markdown",
   "id": "1bfe2dd7",
   "metadata": {},
   "source": [
    "## Acquire"
   ]
  },
  {
   "cell_type": "code",
   "execution_count": 2,
   "id": "073a6147",
   "metadata": {},
   "outputs": [
    {
     "name": "stdout",
     "output_type": "stream",
     "text": [
      "this file exists, reading from csv\n"
     ]
    },
    {
     "data": {
      "text/html": [
       "<div>\n",
       "<style scoped>\n",
       "    .dataframe tbody tr th:only-of-type {\n",
       "        vertical-align: middle;\n",
       "    }\n",
       "\n",
       "    .dataframe tbody tr th {\n",
       "        vertical-align: top;\n",
       "    }\n",
       "\n",
       "    .dataframe thead th {\n",
       "        text-align: right;\n",
       "    }\n",
       "</style>\n",
       "<table border=\"1\" class=\"dataframe\">\n",
       "  <thead>\n",
       "    <tr style=\"text-align: right;\">\n",
       "      <th></th>\n",
       "      <th>payment_type_id</th>\n",
       "      <th>internet_service_type_id</th>\n",
       "      <th>contract_type_id</th>\n",
       "      <th>customer_id</th>\n",
       "      <th>gender</th>\n",
       "      <th>senior_citizen</th>\n",
       "      <th>partner</th>\n",
       "      <th>dependents</th>\n",
       "      <th>tenure</th>\n",
       "      <th>phone_service</th>\n",
       "      <th>...</th>\n",
       "      <th>tech_support</th>\n",
       "      <th>streaming_tv</th>\n",
       "      <th>streaming_movies</th>\n",
       "      <th>paperless_billing</th>\n",
       "      <th>monthly_charges</th>\n",
       "      <th>total_charges</th>\n",
       "      <th>churn</th>\n",
       "      <th>contract_type</th>\n",
       "      <th>internet_service_type</th>\n",
       "      <th>payment_type</th>\n",
       "    </tr>\n",
       "  </thead>\n",
       "  <tbody>\n",
       "    <tr>\n",
       "      <th>0</th>\n",
       "      <td>2</td>\n",
       "      <td>1</td>\n",
       "      <td>2</td>\n",
       "      <td>0002-ORFBO</td>\n",
       "      <td>Female</td>\n",
       "      <td>0</td>\n",
       "      <td>Yes</td>\n",
       "      <td>Yes</td>\n",
       "      <td>9</td>\n",
       "      <td>Yes</td>\n",
       "      <td>...</td>\n",
       "      <td>Yes</td>\n",
       "      <td>Yes</td>\n",
       "      <td>No</td>\n",
       "      <td>Yes</td>\n",
       "      <td>65.60</td>\n",
       "      <td>593.3</td>\n",
       "      <td>No</td>\n",
       "      <td>One year</td>\n",
       "      <td>DSL</td>\n",
       "      <td>Mailed check</td>\n",
       "    </tr>\n",
       "    <tr>\n",
       "      <th>1</th>\n",
       "      <td>2</td>\n",
       "      <td>1</td>\n",
       "      <td>1</td>\n",
       "      <td>0003-MKNFE</td>\n",
       "      <td>Male</td>\n",
       "      <td>0</td>\n",
       "      <td>No</td>\n",
       "      <td>No</td>\n",
       "      <td>9</td>\n",
       "      <td>Yes</td>\n",
       "      <td>...</td>\n",
       "      <td>No</td>\n",
       "      <td>No</td>\n",
       "      <td>Yes</td>\n",
       "      <td>No</td>\n",
       "      <td>59.90</td>\n",
       "      <td>542.4</td>\n",
       "      <td>No</td>\n",
       "      <td>Month-to-month</td>\n",
       "      <td>DSL</td>\n",
       "      <td>Mailed check</td>\n",
       "    </tr>\n",
       "    <tr>\n",
       "      <th>2</th>\n",
       "      <td>1</td>\n",
       "      <td>2</td>\n",
       "      <td>1</td>\n",
       "      <td>0004-TLHLJ</td>\n",
       "      <td>Male</td>\n",
       "      <td>0</td>\n",
       "      <td>No</td>\n",
       "      <td>No</td>\n",
       "      <td>4</td>\n",
       "      <td>Yes</td>\n",
       "      <td>...</td>\n",
       "      <td>No</td>\n",
       "      <td>No</td>\n",
       "      <td>No</td>\n",
       "      <td>Yes</td>\n",
       "      <td>73.90</td>\n",
       "      <td>280.85</td>\n",
       "      <td>Yes</td>\n",
       "      <td>Month-to-month</td>\n",
       "      <td>Fiber optic</td>\n",
       "      <td>Electronic check</td>\n",
       "    </tr>\n",
       "    <tr>\n",
       "      <th>3</th>\n",
       "      <td>1</td>\n",
       "      <td>2</td>\n",
       "      <td>1</td>\n",
       "      <td>0011-IGKFF</td>\n",
       "      <td>Male</td>\n",
       "      <td>1</td>\n",
       "      <td>Yes</td>\n",
       "      <td>No</td>\n",
       "      <td>13</td>\n",
       "      <td>Yes</td>\n",
       "      <td>...</td>\n",
       "      <td>No</td>\n",
       "      <td>Yes</td>\n",
       "      <td>Yes</td>\n",
       "      <td>Yes</td>\n",
       "      <td>98.00</td>\n",
       "      <td>1237.85</td>\n",
       "      <td>Yes</td>\n",
       "      <td>Month-to-month</td>\n",
       "      <td>Fiber optic</td>\n",
       "      <td>Electronic check</td>\n",
       "    </tr>\n",
       "    <tr>\n",
       "      <th>4</th>\n",
       "      <td>2</td>\n",
       "      <td>2</td>\n",
       "      <td>1</td>\n",
       "      <td>0013-EXCHZ</td>\n",
       "      <td>Female</td>\n",
       "      <td>1</td>\n",
       "      <td>Yes</td>\n",
       "      <td>No</td>\n",
       "      <td>3</td>\n",
       "      <td>Yes</td>\n",
       "      <td>...</td>\n",
       "      <td>Yes</td>\n",
       "      <td>Yes</td>\n",
       "      <td>No</td>\n",
       "      <td>Yes</td>\n",
       "      <td>83.90</td>\n",
       "      <td>267.4</td>\n",
       "      <td>Yes</td>\n",
       "      <td>Month-to-month</td>\n",
       "      <td>Fiber optic</td>\n",
       "      <td>Mailed check</td>\n",
       "    </tr>\n",
       "    <tr>\n",
       "      <th>...</th>\n",
       "      <td>...</td>\n",
       "      <td>...</td>\n",
       "      <td>...</td>\n",
       "      <td>...</td>\n",
       "      <td>...</td>\n",
       "      <td>...</td>\n",
       "      <td>...</td>\n",
       "      <td>...</td>\n",
       "      <td>...</td>\n",
       "      <td>...</td>\n",
       "      <td>...</td>\n",
       "      <td>...</td>\n",
       "      <td>...</td>\n",
       "      <td>...</td>\n",
       "      <td>...</td>\n",
       "      <td>...</td>\n",
       "      <td>...</td>\n",
       "      <td>...</td>\n",
       "      <td>...</td>\n",
       "      <td>...</td>\n",
       "      <td>...</td>\n",
       "    </tr>\n",
       "    <tr>\n",
       "      <th>7038</th>\n",
       "      <td>2</td>\n",
       "      <td>1</td>\n",
       "      <td>2</td>\n",
       "      <td>9987-LUTYD</td>\n",
       "      <td>Female</td>\n",
       "      <td>0</td>\n",
       "      <td>No</td>\n",
       "      <td>No</td>\n",
       "      <td>13</td>\n",
       "      <td>Yes</td>\n",
       "      <td>...</td>\n",
       "      <td>Yes</td>\n",
       "      <td>No</td>\n",
       "      <td>No</td>\n",
       "      <td>No</td>\n",
       "      <td>55.15</td>\n",
       "      <td>742.9</td>\n",
       "      <td>No</td>\n",
       "      <td>One year</td>\n",
       "      <td>DSL</td>\n",
       "      <td>Mailed check</td>\n",
       "    </tr>\n",
       "    <tr>\n",
       "      <th>7039</th>\n",
       "      <td>1</td>\n",
       "      <td>2</td>\n",
       "      <td>1</td>\n",
       "      <td>9992-RRAMN</td>\n",
       "      <td>Male</td>\n",
       "      <td>0</td>\n",
       "      <td>Yes</td>\n",
       "      <td>No</td>\n",
       "      <td>22</td>\n",
       "      <td>Yes</td>\n",
       "      <td>...</td>\n",
       "      <td>No</td>\n",
       "      <td>No</td>\n",
       "      <td>Yes</td>\n",
       "      <td>Yes</td>\n",
       "      <td>85.10</td>\n",
       "      <td>1873.7</td>\n",
       "      <td>Yes</td>\n",
       "      <td>Month-to-month</td>\n",
       "      <td>Fiber optic</td>\n",
       "      <td>Electronic check</td>\n",
       "    </tr>\n",
       "    <tr>\n",
       "      <th>7040</th>\n",
       "      <td>2</td>\n",
       "      <td>1</td>\n",
       "      <td>1</td>\n",
       "      <td>9992-UJOEL</td>\n",
       "      <td>Male</td>\n",
       "      <td>0</td>\n",
       "      <td>No</td>\n",
       "      <td>No</td>\n",
       "      <td>2</td>\n",
       "      <td>Yes</td>\n",
       "      <td>...</td>\n",
       "      <td>No</td>\n",
       "      <td>No</td>\n",
       "      <td>No</td>\n",
       "      <td>Yes</td>\n",
       "      <td>50.30</td>\n",
       "      <td>92.75</td>\n",
       "      <td>No</td>\n",
       "      <td>Month-to-month</td>\n",
       "      <td>DSL</td>\n",
       "      <td>Mailed check</td>\n",
       "    </tr>\n",
       "    <tr>\n",
       "      <th>7041</th>\n",
       "      <td>2</td>\n",
       "      <td>1</td>\n",
       "      <td>3</td>\n",
       "      <td>9993-LHIEB</td>\n",
       "      <td>Male</td>\n",
       "      <td>0</td>\n",
       "      <td>Yes</td>\n",
       "      <td>Yes</td>\n",
       "      <td>67</td>\n",
       "      <td>Yes</td>\n",
       "      <td>...</td>\n",
       "      <td>Yes</td>\n",
       "      <td>No</td>\n",
       "      <td>Yes</td>\n",
       "      <td>No</td>\n",
       "      <td>67.85</td>\n",
       "      <td>4627.65</td>\n",
       "      <td>No</td>\n",
       "      <td>Two year</td>\n",
       "      <td>DSL</td>\n",
       "      <td>Mailed check</td>\n",
       "    </tr>\n",
       "    <tr>\n",
       "      <th>7042</th>\n",
       "      <td>1</td>\n",
       "      <td>1</td>\n",
       "      <td>3</td>\n",
       "      <td>9995-HOTOH</td>\n",
       "      <td>Male</td>\n",
       "      <td>0</td>\n",
       "      <td>Yes</td>\n",
       "      <td>Yes</td>\n",
       "      <td>63</td>\n",
       "      <td>No</td>\n",
       "      <td>...</td>\n",
       "      <td>No</td>\n",
       "      <td>Yes</td>\n",
       "      <td>Yes</td>\n",
       "      <td>No</td>\n",
       "      <td>59.00</td>\n",
       "      <td>3707.6</td>\n",
       "      <td>No</td>\n",
       "      <td>Two year</td>\n",
       "      <td>DSL</td>\n",
       "      <td>Electronic check</td>\n",
       "    </tr>\n",
       "  </tbody>\n",
       "</table>\n",
       "<p>7043 rows × 24 columns</p>\n",
       "</div>"
      ],
      "text/plain": [
       "      payment_type_id  internet_service_type_id  contract_type_id customer_id  \\\n",
       "0                   2                         1                 2  0002-ORFBO   \n",
       "1                   2                         1                 1  0003-MKNFE   \n",
       "2                   1                         2                 1  0004-TLHLJ   \n",
       "3                   1                         2                 1  0011-IGKFF   \n",
       "4                   2                         2                 1  0013-EXCHZ   \n",
       "...               ...                       ...               ...         ...   \n",
       "7038                2                         1                 2  9987-LUTYD   \n",
       "7039                1                         2                 1  9992-RRAMN   \n",
       "7040                2                         1                 1  9992-UJOEL   \n",
       "7041                2                         1                 3  9993-LHIEB   \n",
       "7042                1                         1                 3  9995-HOTOH   \n",
       "\n",
       "      gender  senior_citizen partner dependents  tenure phone_service  ...  \\\n",
       "0     Female               0     Yes        Yes       9           Yes  ...   \n",
       "1       Male               0      No         No       9           Yes  ...   \n",
       "2       Male               0      No         No       4           Yes  ...   \n",
       "3       Male               1     Yes         No      13           Yes  ...   \n",
       "4     Female               1     Yes         No       3           Yes  ...   \n",
       "...      ...             ...     ...        ...     ...           ...  ...   \n",
       "7038  Female               0      No         No      13           Yes  ...   \n",
       "7039    Male               0     Yes         No      22           Yes  ...   \n",
       "7040    Male               0      No         No       2           Yes  ...   \n",
       "7041    Male               0     Yes        Yes      67           Yes  ...   \n",
       "7042    Male               0     Yes        Yes      63            No  ...   \n",
       "\n",
       "     tech_support streaming_tv streaming_movies paperless_billing  \\\n",
       "0             Yes          Yes               No               Yes   \n",
       "1              No           No              Yes                No   \n",
       "2              No           No               No               Yes   \n",
       "3              No          Yes              Yes               Yes   \n",
       "4             Yes          Yes               No               Yes   \n",
       "...           ...          ...              ...               ...   \n",
       "7038          Yes           No               No                No   \n",
       "7039           No           No              Yes               Yes   \n",
       "7040           No           No               No               Yes   \n",
       "7041          Yes           No              Yes                No   \n",
       "7042           No          Yes              Yes                No   \n",
       "\n",
       "     monthly_charges total_charges churn   contract_type  \\\n",
       "0              65.60         593.3    No        One year   \n",
       "1              59.90         542.4    No  Month-to-month   \n",
       "2              73.90        280.85   Yes  Month-to-month   \n",
       "3              98.00       1237.85   Yes  Month-to-month   \n",
       "4              83.90         267.4   Yes  Month-to-month   \n",
       "...              ...           ...   ...             ...   \n",
       "7038           55.15         742.9    No        One year   \n",
       "7039           85.10        1873.7   Yes  Month-to-month   \n",
       "7040           50.30         92.75    No  Month-to-month   \n",
       "7041           67.85       4627.65    No        Two year   \n",
       "7042           59.00        3707.6    No        Two year   \n",
       "\n",
       "      internet_service_type      payment_type  \n",
       "0                       DSL      Mailed check  \n",
       "1                       DSL      Mailed check  \n",
       "2               Fiber optic  Electronic check  \n",
       "3               Fiber optic  Electronic check  \n",
       "4               Fiber optic      Mailed check  \n",
       "...                     ...               ...  \n",
       "7038                    DSL      Mailed check  \n",
       "7039            Fiber optic  Electronic check  \n",
       "7040                    DSL      Mailed check  \n",
       "7041                    DSL      Mailed check  \n",
       "7042                    DSL  Electronic check  \n",
       "\n",
       "[7043 rows x 24 columns]"
      ]
     },
     "execution_count": 2,
     "metadata": {},
     "output_type": "execute_result"
    }
   ],
   "source": [
    "# Uses the function defined in acquire.py to load the Telco data.\n",
    "df = a.get_telco_data()\n",
    "df"
   ]
  },
  {
   "cell_type": "markdown",
   "id": "601a72cf",
   "metadata": {},
   "source": [
    "## Prepare"
   ]
  },
  {
   "cell_type": "code",
   "execution_count": 3,
   "id": "5562c24f",
   "metadata": {},
   "outputs": [],
   "source": [
    "# Drops any unnecessary, unhelpful, or duplicated columns.\n",
    "df = df.drop(columns=['payment_type_id', 'internet_service_type_id', 'contract_type_id'])"
   ]
  },
  {
   "cell_type": "code",
   "execution_count": 4,
   "id": "05d82fb5",
   "metadata": {},
   "outputs": [
    {
     "data": {
      "text/plain": [
       "(7043, 21)"
      ]
     },
     "execution_count": 4,
     "metadata": {},
     "output_type": "execute_result"
    }
   ],
   "source": [
    "# gives back the dimentionality of the df.\n",
    "df.shape"
   ]
  },
  {
   "cell_type": "code",
   "execution_count": 5,
   "id": "e98770f4",
   "metadata": {},
   "outputs": [
    {
     "data": {
      "text/html": [
       "<div>\n",
       "<style scoped>\n",
       "    .dataframe tbody tr th:only-of-type {\n",
       "        vertical-align: middle;\n",
       "    }\n",
       "\n",
       "    .dataframe tbody tr th {\n",
       "        vertical-align: top;\n",
       "    }\n",
       "\n",
       "    .dataframe thead th {\n",
       "        text-align: right;\n",
       "    }\n",
       "</style>\n",
       "<table border=\"1\" class=\"dataframe\">\n",
       "  <thead>\n",
       "    <tr style=\"text-align: right;\">\n",
       "      <th></th>\n",
       "      <th>customer_id</th>\n",
       "      <th>gender</th>\n",
       "      <th>senior_citizen</th>\n",
       "      <th>partner</th>\n",
       "      <th>dependents</th>\n",
       "      <th>tenure</th>\n",
       "      <th>phone_service</th>\n",
       "      <th>multiple_lines</th>\n",
       "      <th>online_security</th>\n",
       "      <th>online_backup</th>\n",
       "      <th>...</th>\n",
       "      <th>tech_support</th>\n",
       "      <th>streaming_tv</th>\n",
       "      <th>streaming_movies</th>\n",
       "      <th>paperless_billing</th>\n",
       "      <th>monthly_charges</th>\n",
       "      <th>total_charges</th>\n",
       "      <th>churn</th>\n",
       "      <th>contract_type</th>\n",
       "      <th>internet_service_type</th>\n",
       "      <th>payment_type</th>\n",
       "    </tr>\n",
       "  </thead>\n",
       "  <tbody>\n",
       "    <tr>\n",
       "      <th>0</th>\n",
       "      <td>0002-ORFBO</td>\n",
       "      <td>Female</td>\n",
       "      <td>0</td>\n",
       "      <td>Yes</td>\n",
       "      <td>Yes</td>\n",
       "      <td>9</td>\n",
       "      <td>Yes</td>\n",
       "      <td>No</td>\n",
       "      <td>No</td>\n",
       "      <td>Yes</td>\n",
       "      <td>...</td>\n",
       "      <td>Yes</td>\n",
       "      <td>Yes</td>\n",
       "      <td>No</td>\n",
       "      <td>Yes</td>\n",
       "      <td>65.6</td>\n",
       "      <td>593.3</td>\n",
       "      <td>No</td>\n",
       "      <td>One year</td>\n",
       "      <td>DSL</td>\n",
       "      <td>Mailed check</td>\n",
       "    </tr>\n",
       "    <tr>\n",
       "      <th>1</th>\n",
       "      <td>0003-MKNFE</td>\n",
       "      <td>Male</td>\n",
       "      <td>0</td>\n",
       "      <td>No</td>\n",
       "      <td>No</td>\n",
       "      <td>9</td>\n",
       "      <td>Yes</td>\n",
       "      <td>Yes</td>\n",
       "      <td>No</td>\n",
       "      <td>No</td>\n",
       "      <td>...</td>\n",
       "      <td>No</td>\n",
       "      <td>No</td>\n",
       "      <td>Yes</td>\n",
       "      <td>No</td>\n",
       "      <td>59.9</td>\n",
       "      <td>542.4</td>\n",
       "      <td>No</td>\n",
       "      <td>Month-to-month</td>\n",
       "      <td>DSL</td>\n",
       "      <td>Mailed check</td>\n",
       "    </tr>\n",
       "    <tr>\n",
       "      <th>2</th>\n",
       "      <td>0004-TLHLJ</td>\n",
       "      <td>Male</td>\n",
       "      <td>0</td>\n",
       "      <td>No</td>\n",
       "      <td>No</td>\n",
       "      <td>4</td>\n",
       "      <td>Yes</td>\n",
       "      <td>No</td>\n",
       "      <td>No</td>\n",
       "      <td>No</td>\n",
       "      <td>...</td>\n",
       "      <td>No</td>\n",
       "      <td>No</td>\n",
       "      <td>No</td>\n",
       "      <td>Yes</td>\n",
       "      <td>73.9</td>\n",
       "      <td>280.85</td>\n",
       "      <td>Yes</td>\n",
       "      <td>Month-to-month</td>\n",
       "      <td>Fiber optic</td>\n",
       "      <td>Electronic check</td>\n",
       "    </tr>\n",
       "    <tr>\n",
       "      <th>3</th>\n",
       "      <td>0011-IGKFF</td>\n",
       "      <td>Male</td>\n",
       "      <td>1</td>\n",
       "      <td>Yes</td>\n",
       "      <td>No</td>\n",
       "      <td>13</td>\n",
       "      <td>Yes</td>\n",
       "      <td>No</td>\n",
       "      <td>No</td>\n",
       "      <td>Yes</td>\n",
       "      <td>...</td>\n",
       "      <td>No</td>\n",
       "      <td>Yes</td>\n",
       "      <td>Yes</td>\n",
       "      <td>Yes</td>\n",
       "      <td>98.0</td>\n",
       "      <td>1237.85</td>\n",
       "      <td>Yes</td>\n",
       "      <td>Month-to-month</td>\n",
       "      <td>Fiber optic</td>\n",
       "      <td>Electronic check</td>\n",
       "    </tr>\n",
       "    <tr>\n",
       "      <th>4</th>\n",
       "      <td>0013-EXCHZ</td>\n",
       "      <td>Female</td>\n",
       "      <td>1</td>\n",
       "      <td>Yes</td>\n",
       "      <td>No</td>\n",
       "      <td>3</td>\n",
       "      <td>Yes</td>\n",
       "      <td>No</td>\n",
       "      <td>No</td>\n",
       "      <td>No</td>\n",
       "      <td>...</td>\n",
       "      <td>Yes</td>\n",
       "      <td>Yes</td>\n",
       "      <td>No</td>\n",
       "      <td>Yes</td>\n",
       "      <td>83.9</td>\n",
       "      <td>267.4</td>\n",
       "      <td>Yes</td>\n",
       "      <td>Month-to-month</td>\n",
       "      <td>Fiber optic</td>\n",
       "      <td>Mailed check</td>\n",
       "    </tr>\n",
       "  </tbody>\n",
       "</table>\n",
       "<p>5 rows × 21 columns</p>\n",
       "</div>"
      ],
      "text/plain": [
       "  customer_id  gender  senior_citizen partner dependents  tenure  \\\n",
       "0  0002-ORFBO  Female               0     Yes        Yes       9   \n",
       "1  0003-MKNFE    Male               0      No         No       9   \n",
       "2  0004-TLHLJ    Male               0      No         No       4   \n",
       "3  0011-IGKFF    Male               1     Yes         No      13   \n",
       "4  0013-EXCHZ  Female               1     Yes         No       3   \n",
       "\n",
       "  phone_service multiple_lines online_security online_backup  ...  \\\n",
       "0           Yes             No              No           Yes  ...   \n",
       "1           Yes            Yes              No            No  ...   \n",
       "2           Yes             No              No            No  ...   \n",
       "3           Yes             No              No           Yes  ...   \n",
       "4           Yes             No              No            No  ...   \n",
       "\n",
       "  tech_support streaming_tv streaming_movies paperless_billing  \\\n",
       "0          Yes          Yes               No               Yes   \n",
       "1           No           No              Yes                No   \n",
       "2           No           No               No               Yes   \n",
       "3           No          Yes              Yes               Yes   \n",
       "4          Yes          Yes               No               Yes   \n",
       "\n",
       "  monthly_charges  total_charges churn   contract_type internet_service_type  \\\n",
       "0            65.6          593.3    No        One year                   DSL   \n",
       "1            59.9          542.4    No  Month-to-month                   DSL   \n",
       "2            73.9         280.85   Yes  Month-to-month           Fiber optic   \n",
       "3            98.0        1237.85   Yes  Month-to-month           Fiber optic   \n",
       "4            83.9          267.4   Yes  Month-to-month           Fiber optic   \n",
       "\n",
       "       payment_type  \n",
       "0      Mailed check  \n",
       "1      Mailed check  \n",
       "2  Electronic check  \n",
       "3  Electronic check  \n",
       "4      Mailed check  \n",
       "\n",
       "[5 rows x 21 columns]"
      ]
     },
     "execution_count": 5,
     "metadata": {},
     "output_type": "execute_result"
    }
   ],
   "source": [
    "df.head()"
   ]
  },
  {
   "cell_type": "code",
   "execution_count": 6,
   "id": "fa08e047",
   "metadata": {},
   "outputs": [
    {
     "data": {
      "text/html": [
       "<div>\n",
       "<style scoped>\n",
       "    .dataframe tbody tr th:only-of-type {\n",
       "        vertical-align: middle;\n",
       "    }\n",
       "\n",
       "    .dataframe tbody tr th {\n",
       "        vertical-align: top;\n",
       "    }\n",
       "\n",
       "    .dataframe thead th {\n",
       "        text-align: right;\n",
       "    }\n",
       "</style>\n",
       "<table border=\"1\" class=\"dataframe\">\n",
       "  <thead>\n",
       "    <tr style=\"text-align: right;\">\n",
       "      <th></th>\n",
       "      <th>senior_citizen</th>\n",
       "      <th>tenure</th>\n",
       "      <th>monthly_charges</th>\n",
       "    </tr>\n",
       "  </thead>\n",
       "  <tbody>\n",
       "    <tr>\n",
       "      <th>count</th>\n",
       "      <td>7043.000000</td>\n",
       "      <td>7043.000000</td>\n",
       "      <td>7043.000000</td>\n",
       "    </tr>\n",
       "    <tr>\n",
       "      <th>mean</th>\n",
       "      <td>0.162147</td>\n",
       "      <td>32.371149</td>\n",
       "      <td>64.761692</td>\n",
       "    </tr>\n",
       "    <tr>\n",
       "      <th>std</th>\n",
       "      <td>0.368612</td>\n",
       "      <td>24.559481</td>\n",
       "      <td>30.090047</td>\n",
       "    </tr>\n",
       "    <tr>\n",
       "      <th>min</th>\n",
       "      <td>0.000000</td>\n",
       "      <td>0.000000</td>\n",
       "      <td>18.250000</td>\n",
       "    </tr>\n",
       "    <tr>\n",
       "      <th>25%</th>\n",
       "      <td>0.000000</td>\n",
       "      <td>9.000000</td>\n",
       "      <td>35.500000</td>\n",
       "    </tr>\n",
       "    <tr>\n",
       "      <th>50%</th>\n",
       "      <td>0.000000</td>\n",
       "      <td>29.000000</td>\n",
       "      <td>70.350000</td>\n",
       "    </tr>\n",
       "    <tr>\n",
       "      <th>75%</th>\n",
       "      <td>0.000000</td>\n",
       "      <td>55.000000</td>\n",
       "      <td>89.850000</td>\n",
       "    </tr>\n",
       "    <tr>\n",
       "      <th>max</th>\n",
       "      <td>1.000000</td>\n",
       "      <td>72.000000</td>\n",
       "      <td>118.750000</td>\n",
       "    </tr>\n",
       "  </tbody>\n",
       "</table>\n",
       "</div>"
      ],
      "text/plain": [
       "       senior_citizen       tenure  monthly_charges\n",
       "count     7043.000000  7043.000000      7043.000000\n",
       "mean         0.162147    32.371149        64.761692\n",
       "std          0.368612    24.559481        30.090047\n",
       "min          0.000000     0.000000        18.250000\n",
       "25%          0.000000     9.000000        35.500000\n",
       "50%          0.000000    29.000000        70.350000\n",
       "75%          0.000000    55.000000        89.850000\n",
       "max          1.000000    72.000000       118.750000"
      ]
     },
     "execution_count": 6,
     "metadata": {},
     "output_type": "execute_result"
    }
   ],
   "source": [
    "df.describe()"
   ]
  },
  {
   "cell_type": "code",
   "execution_count": 7,
   "id": "9723936f",
   "metadata": {},
   "outputs": [
    {
     "name": "stdout",
     "output_type": "stream",
     "text": [
      "<class 'pandas.core.frame.DataFrame'>\n",
      "Index: 7043 entries, 0 to 7042\n",
      "Data columns (total 21 columns):\n",
      " #   Column                 Non-Null Count  Dtype  \n",
      "---  ------                 --------------  -----  \n",
      " 0   customer_id            7043 non-null   object \n",
      " 1   gender                 7043 non-null   object \n",
      " 2   senior_citizen         7043 non-null   int64  \n",
      " 3   partner                7043 non-null   object \n",
      " 4   dependents             7043 non-null   object \n",
      " 5   tenure                 7043 non-null   int64  \n",
      " 6   phone_service          7043 non-null   object \n",
      " 7   multiple_lines         7043 non-null   object \n",
      " 8   online_security        7043 non-null   object \n",
      " 9   online_backup          7043 non-null   object \n",
      " 10  device_protection      7043 non-null   object \n",
      " 11  tech_support           7043 non-null   object \n",
      " 12  streaming_tv           7043 non-null   object \n",
      " 13  streaming_movies       7043 non-null   object \n",
      " 14  paperless_billing      7043 non-null   object \n",
      " 15  monthly_charges        7043 non-null   float64\n",
      " 16  total_charges          7043 non-null   object \n",
      " 17  churn                  7043 non-null   object \n",
      " 18  contract_type          7043 non-null   object \n",
      " 19  internet_service_type  5517 non-null   object \n",
      " 20  payment_type           7043 non-null   object \n",
      "dtypes: float64(1), int64(2), object(18)\n",
      "memory usage: 1.2+ MB\n"
     ]
    }
   ],
   "source": [
    "df.info()"
   ]
  },
  {
   "cell_type": "code",
   "execution_count": 8,
   "id": "88e4d7ab",
   "metadata": {},
   "outputs": [
    {
     "data": {
      "text/plain": [
       "contract_type\n",
       "Month-to-month    3875\n",
       "Two year          1695\n",
       "One year          1473\n",
       "Name: count, dtype: int64"
      ]
     },
     "execution_count": 8,
     "metadata": {},
     "output_type": "execute_result"
    }
   ],
   "source": [
    "df.contract_type.value_counts()"
   ]
  },
  {
   "cell_type": "code",
   "execution_count": 9,
   "id": "ad70a81a",
   "metadata": {},
   "outputs": [
    {
     "data": {
      "text/plain": [
       "internet_service_type\n",
       "Fiber optic    3096\n",
       "DSL            2421\n",
       "Name: count, dtype: int64"
      ]
     },
     "execution_count": 9,
     "metadata": {},
     "output_type": "execute_result"
    }
   ],
   "source": [
    "df.internet_service_type.value_counts()"
   ]
  },
  {
   "cell_type": "code",
   "execution_count": 10,
   "id": "24d4b93a",
   "metadata": {},
   "outputs": [
    {
     "data": {
      "text/plain": [
       "payment_type\n",
       "Electronic check             2365\n",
       "Mailed check                 1612\n",
       "Bank transfer (automatic)    1544\n",
       "Credit card (automatic)      1522\n",
       "Name: count, dtype: int64"
      ]
     },
     "execution_count": 10,
     "metadata": {},
     "output_type": "execute_result"
    }
   ],
   "source": [
    "df.payment_type.value_counts()"
   ]
  },
  {
   "cell_type": "code",
   "execution_count": 11,
   "id": "710cb14b",
   "metadata": {},
   "outputs": [
    {
     "data": {
      "text/plain": [
       "monthly_charges\n",
       "20.05     61\n",
       "19.85     45\n",
       "19.95     44\n",
       "19.90     44\n",
       "20.00     43\n",
       "          ..\n",
       "116.55     1\n",
       "106.85     1\n",
       "68.55      1\n",
       "108.80     1\n",
       "67.85      1\n",
       "Name: count, Length: 1585, dtype: int64"
      ]
     },
     "execution_count": 11,
     "metadata": {},
     "output_type": "execute_result"
    }
   ],
   "source": [
    "df.monthly_charges.value_counts()"
   ]
  },
  {
   "cell_type": "code",
   "execution_count": 12,
   "id": "7766ff1e",
   "metadata": {},
   "outputs": [
    {
     "data": {
      "text/plain": [
       "customer_id                 0\n",
       "gender                      0\n",
       "senior_citizen              0\n",
       "partner                     0\n",
       "dependents                  0\n",
       "tenure                      0\n",
       "phone_service               0\n",
       "multiple_lines              0\n",
       "online_security             0\n",
       "online_backup               0\n",
       "device_protection           0\n",
       "tech_support                0\n",
       "streaming_tv                0\n",
       "streaming_movies            0\n",
       "paperless_billing           0\n",
       "monthly_charges             0\n",
       "total_charges               0\n",
       "churn                       0\n",
       "contract_type               0\n",
       "internet_service_type    1526\n",
       "payment_type                0\n",
       "dtype: int64"
      ]
     },
     "execution_count": 12,
     "metadata": {},
     "output_type": "execute_result"
    }
   ],
   "source": [
    "# handle null values\n",
    "df.isnull().sum()"
   ]
  },
  {
   "cell_type": "code",
   "execution_count": 13,
   "id": "955b5d99",
   "metadata": {},
   "outputs": [],
   "source": [
    "# handles the null values in internet service type by filling the null values with none.\n",
    "df['internet_service_type'] = df['internet_service_type'].fillna('None') "
   ]
  },
  {
   "cell_type": "code",
   "execution_count": 14,
   "id": "8c8fc911",
   "metadata": {},
   "outputs": [
    {
     "data": {
      "text/plain": [
       "internet_service_type\n",
       "Fiber optic    3096\n",
       "DSL            2421\n",
       "None           1526\n",
       "Name: count, dtype: int64"
      ]
     },
     "execution_count": 14,
     "metadata": {},
     "output_type": "execute_result"
    }
   ],
   "source": [
    "# shows the counts of all values in the internet service type column.\n",
    "df.internet_service_type.value_counts()"
   ]
  },
  {
   "cell_type": "code",
   "execution_count": 15,
   "id": "b9931491",
   "metadata": {},
   "outputs": [],
   "source": [
    "# replaces values in the total charges column with a blank space to 0.0\n",
    "df.total_charges = df.total_charges.str.replace(' ','0.0')"
   ]
  },
  {
   "cell_type": "code",
   "execution_count": 16,
   "id": "2acc94fa",
   "metadata": {},
   "outputs": [],
   "source": [
    "# changes total_charges to a float instead of an object\n",
    "df['total_charges'] = (df.total_charges + '0').astype(float)"
   ]
  },
  {
   "cell_type": "code",
   "execution_count": 17,
   "id": "64941ed1",
   "metadata": {},
   "outputs": [
    {
     "data": {
      "text/plain": [
       "customer_id              0\n",
       "gender                   0\n",
       "senior_citizen           0\n",
       "partner                  0\n",
       "dependents               0\n",
       "tenure                   0\n",
       "phone_service            0\n",
       "multiple_lines           0\n",
       "online_security          0\n",
       "online_backup            0\n",
       "device_protection        0\n",
       "tech_support             0\n",
       "streaming_tv             0\n",
       "streaming_movies         0\n",
       "paperless_billing        0\n",
       "monthly_charges          0\n",
       "total_charges            0\n",
       "churn                    0\n",
       "contract_type            0\n",
       "internet_service_type    0\n",
       "payment_type             0\n",
       "dtype: int64"
      ]
     },
     "execution_count": 17,
     "metadata": {},
     "output_type": "execute_result"
    }
   ],
   "source": [
    "# verifies that there are no longer any null values.\n",
    "df.isnull().sum()"
   ]
  },
  {
   "cell_type": "code",
   "execution_count": 18,
   "id": "b4bea5b4",
   "metadata": {},
   "outputs": [],
   "source": [
    "# sets the index using customer_id\n",
    "df = df.set_index(['customer_id'])"
   ]
  },
  {
   "cell_type": "code",
   "execution_count": 19,
   "id": "2b9a7a99",
   "metadata": {},
   "outputs": [
    {
     "name": "stdout",
     "output_type": "stream",
     "text": [
      "<class 'pandas.core.frame.DataFrame'>\n",
      "Index: 7043 entries, 0002-ORFBO to 9995-HOTOH\n",
      "Data columns (total 20 columns):\n",
      " #   Column                 Non-Null Count  Dtype  \n",
      "---  ------                 --------------  -----  \n",
      " 0   gender                 7043 non-null   object \n",
      " 1   senior_citizen         7043 non-null   int64  \n",
      " 2   partner                7043 non-null   object \n",
      " 3   dependents             7043 non-null   object \n",
      " 4   tenure                 7043 non-null   int64  \n",
      " 5   phone_service          7043 non-null   object \n",
      " 6   multiple_lines         7043 non-null   object \n",
      " 7   online_security        7043 non-null   object \n",
      " 8   online_backup          7043 non-null   object \n",
      " 9   device_protection      7043 non-null   object \n",
      " 10  tech_support           7043 non-null   object \n",
      " 11  streaming_tv           7043 non-null   object \n",
      " 12  streaming_movies       7043 non-null   object \n",
      " 13  paperless_billing      7043 non-null   object \n",
      " 14  monthly_charges        7043 non-null   float64\n",
      " 15  total_charges          7043 non-null   float64\n",
      " 16  churn                  7043 non-null   object \n",
      " 17  contract_type          7043 non-null   object \n",
      " 18  internet_service_type  7043 non-null   object \n",
      " 19  payment_type           7043 non-null   object \n",
      "dtypes: float64(2), int64(2), object(16)\n",
      "memory usage: 1.1+ MB\n"
     ]
    }
   ],
   "source": [
    "df.info()"
   ]
  },
  {
   "cell_type": "code",
   "execution_count": 20,
   "id": "dcdb9140",
   "metadata": {},
   "outputs": [
    {
     "data": {
      "text/plain": [
       "Index(['gender', 'partner', 'dependents', 'phone_service', 'multiple_lines',\n",
       "       'online_security', 'online_backup', 'device_protection', 'tech_support',\n",
       "       'streaming_tv', 'streaming_movies', 'paperless_billing', 'churn',\n",
       "       'contract_type', 'internet_service_type', 'payment_type'],\n",
       "      dtype='object')"
      ]
     },
     "execution_count": 20,
     "metadata": {},
     "output_type": "execute_result"
    }
   ],
   "source": [
    "df.select_dtypes(include='O').columns"
   ]
  },
  {
   "cell_type": "code",
   "execution_count": 21,
   "id": "26b23486",
   "metadata": {},
   "outputs": [
    {
     "data": {
      "text/plain": [
       "0    No\n",
       "Name: churn, dtype: object"
      ]
     },
     "execution_count": 21,
     "metadata": {},
     "output_type": "execute_result"
    }
   ],
   "source": [
    "df.churn.mode()"
   ]
  },
  {
   "cell_type": "code",
   "execution_count": 22,
   "id": "09c60808",
   "metadata": {},
   "outputs": [],
   "source": [
    "# splits df into three df's train, validate, and test\n",
    "train, validate, test = p.splitting_data(df, 'churn')"
   ]
  },
  {
   "cell_type": "code",
   "execution_count": 23,
   "id": "b57333d1",
   "metadata": {},
   "outputs": [],
   "source": [
    "# function encodes each df's categorical columns\n",
    "train_encoded, validate_encoded, test_encoded = p.telco_encoded(train, validate, test)"
   ]
  },
  {
   "cell_type": "code",
   "execution_count": null,
   "id": "64df0320",
   "metadata": {},
   "outputs": [],
   "source": []
  },
  {
   "cell_type": "code",
   "execution_count": 24,
   "id": "f96d5108",
   "metadata": {},
   "outputs": [
    {
     "data": {
      "text/plain": [
       "((4225, 31), (1409, 31), (1409, 31))"
      ]
     },
     "execution_count": 24,
     "metadata": {},
     "output_type": "execute_result"
    }
   ],
   "source": [
    "# checks the shape of all the new df's\n",
    "train_encoded.shape, validate_encoded.shape, test_encoded.shape"
   ]
  },
  {
   "cell_type": "code",
   "execution_count": 25,
   "id": "dd27c87b",
   "metadata": {},
   "outputs": [
    {
     "data": {
      "text/html": [
       "<div>\n",
       "<style scoped>\n",
       "    .dataframe tbody tr th:only-of-type {\n",
       "        vertical-align: middle;\n",
       "    }\n",
       "\n",
       "    .dataframe tbody tr th {\n",
       "        vertical-align: top;\n",
       "    }\n",
       "\n",
       "    .dataframe thead th {\n",
       "        text-align: right;\n",
       "    }\n",
       "</style>\n",
       "<table border=\"1\" class=\"dataframe\">\n",
       "  <thead>\n",
       "    <tr style=\"text-align: right;\">\n",
       "      <th></th>\n",
       "      <th>senior_citizen</th>\n",
       "      <th>tenure</th>\n",
       "      <th>monthly_charges</th>\n",
       "      <th>total_charges</th>\n",
       "      <th>gender_Male</th>\n",
       "      <th>partner_Yes</th>\n",
       "      <th>dependents_Yes</th>\n",
       "      <th>phone_service_Yes</th>\n",
       "      <th>multiple_lines_No phone service</th>\n",
       "      <th>multiple_lines_Yes</th>\n",
       "      <th>...</th>\n",
       "      <th>streaming_movies_Yes</th>\n",
       "      <th>paperless_billing_Yes</th>\n",
       "      <th>churn_Yes</th>\n",
       "      <th>contract_type_One year</th>\n",
       "      <th>contract_type_Two year</th>\n",
       "      <th>internet_service_type_Fiber optic</th>\n",
       "      <th>internet_service_type_None</th>\n",
       "      <th>payment_type_Credit card (automatic)</th>\n",
       "      <th>payment_type_Electronic check</th>\n",
       "      <th>payment_type_Mailed check</th>\n",
       "    </tr>\n",
       "    <tr>\n",
       "      <th>customer_id</th>\n",
       "      <th></th>\n",
       "      <th></th>\n",
       "      <th></th>\n",
       "      <th></th>\n",
       "      <th></th>\n",
       "      <th></th>\n",
       "      <th></th>\n",
       "      <th></th>\n",
       "      <th></th>\n",
       "      <th></th>\n",
       "      <th></th>\n",
       "      <th></th>\n",
       "      <th></th>\n",
       "      <th></th>\n",
       "      <th></th>\n",
       "      <th></th>\n",
       "      <th></th>\n",
       "      <th></th>\n",
       "      <th></th>\n",
       "      <th></th>\n",
       "      <th></th>\n",
       "    </tr>\n",
       "  </thead>\n",
       "  <tbody>\n",
       "    <tr>\n",
       "      <th>4083-BFNYK</th>\n",
       "      <td>1</td>\n",
       "      <td>38</td>\n",
       "      <td>95.00</td>\n",
       "      <td>3591.25</td>\n",
       "      <td>0</td>\n",
       "      <td>1</td>\n",
       "      <td>0</td>\n",
       "      <td>1</td>\n",
       "      <td>0</td>\n",
       "      <td>1</td>\n",
       "      <td>...</td>\n",
       "      <td>1</td>\n",
       "      <td>0</td>\n",
       "      <td>0</td>\n",
       "      <td>1</td>\n",
       "      <td>0</td>\n",
       "      <td>1</td>\n",
       "      <td>0</td>\n",
       "      <td>1</td>\n",
       "      <td>0</td>\n",
       "      <td>0</td>\n",
       "    </tr>\n",
       "    <tr>\n",
       "      <th>5804-LEPIM</th>\n",
       "      <td>1</td>\n",
       "      <td>2</td>\n",
       "      <td>70.35</td>\n",
       "      <td>139.05</td>\n",
       "      <td>0</td>\n",
       "      <td>0</td>\n",
       "      <td>0</td>\n",
       "      <td>1</td>\n",
       "      <td>0</td>\n",
       "      <td>0</td>\n",
       "      <td>...</td>\n",
       "      <td>0</td>\n",
       "      <td>1</td>\n",
       "      <td>1</td>\n",
       "      <td>0</td>\n",
       "      <td>0</td>\n",
       "      <td>1</td>\n",
       "      <td>0</td>\n",
       "      <td>0</td>\n",
       "      <td>1</td>\n",
       "      <td>0</td>\n",
       "    </tr>\n",
       "    <tr>\n",
       "      <th>4895-TMWIR</th>\n",
       "      <td>1</td>\n",
       "      <td>11</td>\n",
       "      <td>19.95</td>\n",
       "      <td>214.75</td>\n",
       "      <td>1</td>\n",
       "      <td>1</td>\n",
       "      <td>0</td>\n",
       "      <td>1</td>\n",
       "      <td>0</td>\n",
       "      <td>0</td>\n",
       "      <td>...</td>\n",
       "      <td>0</td>\n",
       "      <td>0</td>\n",
       "      <td>1</td>\n",
       "      <td>0</td>\n",
       "      <td>0</td>\n",
       "      <td>0</td>\n",
       "      <td>1</td>\n",
       "      <td>0</td>\n",
       "      <td>0</td>\n",
       "      <td>1</td>\n",
       "    </tr>\n",
       "    <tr>\n",
       "      <th>1342-JPNKI</th>\n",
       "      <td>0</td>\n",
       "      <td>10</td>\n",
       "      <td>86.05</td>\n",
       "      <td>834.10</td>\n",
       "      <td>1</td>\n",
       "      <td>0</td>\n",
       "      <td>0</td>\n",
       "      <td>1</td>\n",
       "      <td>0</td>\n",
       "      <td>1</td>\n",
       "      <td>...</td>\n",
       "      <td>0</td>\n",
       "      <td>1</td>\n",
       "      <td>1</td>\n",
       "      <td>0</td>\n",
       "      <td>0</td>\n",
       "      <td>1</td>\n",
       "      <td>0</td>\n",
       "      <td>0</td>\n",
       "      <td>0</td>\n",
       "      <td>0</td>\n",
       "    </tr>\n",
       "    <tr>\n",
       "      <th>3397-AVTKU</th>\n",
       "      <td>0</td>\n",
       "      <td>43</td>\n",
       "      <td>60.00</td>\n",
       "      <td>2548.55</td>\n",
       "      <td>1</td>\n",
       "      <td>0</td>\n",
       "      <td>0</td>\n",
       "      <td>1</td>\n",
       "      <td>0</td>\n",
       "      <td>0</td>\n",
       "      <td>...</td>\n",
       "      <td>1</td>\n",
       "      <td>1</td>\n",
       "      <td>0</td>\n",
       "      <td>0</td>\n",
       "      <td>1</td>\n",
       "      <td>0</td>\n",
       "      <td>0</td>\n",
       "      <td>0</td>\n",
       "      <td>1</td>\n",
       "      <td>0</td>\n",
       "    </tr>\n",
       "  </tbody>\n",
       "</table>\n",
       "<p>5 rows × 31 columns</p>\n",
       "</div>"
      ],
      "text/plain": [
       "             senior_citizen  tenure  monthly_charges  total_charges  \\\n",
       "customer_id                                                           \n",
       "4083-BFNYK                1      38            95.00        3591.25   \n",
       "5804-LEPIM                1       2            70.35         139.05   \n",
       "4895-TMWIR                1      11            19.95         214.75   \n",
       "1342-JPNKI                0      10            86.05         834.10   \n",
       "3397-AVTKU                0      43            60.00        2548.55   \n",
       "\n",
       "             gender_Male  partner_Yes  dependents_Yes  phone_service_Yes  \\\n",
       "customer_id                                                                \n",
       "4083-BFNYK             0            1               0                  1   \n",
       "5804-LEPIM             0            0               0                  1   \n",
       "4895-TMWIR             1            1               0                  1   \n",
       "1342-JPNKI             1            0               0                  1   \n",
       "3397-AVTKU             1            0               0                  1   \n",
       "\n",
       "             multiple_lines_No phone service  multiple_lines_Yes  ...  \\\n",
       "customer_id                                                       ...   \n",
       "4083-BFNYK                                 0                   1  ...   \n",
       "5804-LEPIM                                 0                   0  ...   \n",
       "4895-TMWIR                                 0                   0  ...   \n",
       "1342-JPNKI                                 0                   1  ...   \n",
       "3397-AVTKU                                 0                   0  ...   \n",
       "\n",
       "             streaming_movies_Yes  paperless_billing_Yes  churn_Yes  \\\n",
       "customer_id                                                           \n",
       "4083-BFNYK                      1                      0          0   \n",
       "5804-LEPIM                      0                      1          1   \n",
       "4895-TMWIR                      0                      0          1   \n",
       "1342-JPNKI                      0                      1          1   \n",
       "3397-AVTKU                      1                      1          0   \n",
       "\n",
       "             contract_type_One year  contract_type_Two year  \\\n",
       "customer_id                                                   \n",
       "4083-BFNYK                        1                       0   \n",
       "5804-LEPIM                        0                       0   \n",
       "4895-TMWIR                        0                       0   \n",
       "1342-JPNKI                        0                       0   \n",
       "3397-AVTKU                        0                       1   \n",
       "\n",
       "             internet_service_type_Fiber optic  internet_service_type_None  \\\n",
       "customer_id                                                                  \n",
       "4083-BFNYK                                   1                           0   \n",
       "5804-LEPIM                                   1                           0   \n",
       "4895-TMWIR                                   0                           1   \n",
       "1342-JPNKI                                   1                           0   \n",
       "3397-AVTKU                                   0                           0   \n",
       "\n",
       "             payment_type_Credit card (automatic)  \\\n",
       "customer_id                                         \n",
       "4083-BFNYK                                      1   \n",
       "5804-LEPIM                                      0   \n",
       "4895-TMWIR                                      0   \n",
       "1342-JPNKI                                      0   \n",
       "3397-AVTKU                                      0   \n",
       "\n",
       "             payment_type_Electronic check  payment_type_Mailed check  \n",
       "customer_id                                                            \n",
       "4083-BFNYK                               0                          0  \n",
       "5804-LEPIM                               1                          0  \n",
       "4895-TMWIR                               0                          1  \n",
       "1342-JPNKI                               0                          0  \n",
       "3397-AVTKU                               1                          0  \n",
       "\n",
       "[5 rows x 31 columns]"
      ]
     },
     "execution_count": 25,
     "metadata": {},
     "output_type": "execute_result"
    }
   ],
   "source": [
    "train_encoded.head()"
   ]
  },
  {
   "cell_type": "code",
   "execution_count": 26,
   "id": "351d6cd9",
   "metadata": {},
   "outputs": [
    {
     "name": "stdout",
     "output_type": "stream",
     "text": [
      "<class 'pandas.core.frame.DataFrame'>\n",
      "Index: 4225 entries, 4083-BFNYK to 7562-UXTPG\n",
      "Data columns (total 31 columns):\n",
      " #   Column                                 Non-Null Count  Dtype  \n",
      "---  ------                                 --------------  -----  \n",
      " 0   senior_citizen                         4225 non-null   int64  \n",
      " 1   tenure                                 4225 non-null   int64  \n",
      " 2   monthly_charges                        4225 non-null   float64\n",
      " 3   total_charges                          4225 non-null   float64\n",
      " 4   gender_Male                            4225 non-null   int64  \n",
      " 5   partner_Yes                            4225 non-null   int64  \n",
      " 6   dependents_Yes                         4225 non-null   int64  \n",
      " 7   phone_service_Yes                      4225 non-null   int64  \n",
      " 8   multiple_lines_No phone service        4225 non-null   int64  \n",
      " 9   multiple_lines_Yes                     4225 non-null   int64  \n",
      " 10  online_security_No internet service    4225 non-null   int64  \n",
      " 11  online_security_Yes                    4225 non-null   int64  \n",
      " 12  online_backup_No internet service      4225 non-null   int64  \n",
      " 13  online_backup_Yes                      4225 non-null   int64  \n",
      " 14  device_protection_No internet service  4225 non-null   int64  \n",
      " 15  device_protection_Yes                  4225 non-null   int64  \n",
      " 16  tech_support_No internet service       4225 non-null   int64  \n",
      " 17  tech_support_Yes                       4225 non-null   int64  \n",
      " 18  streaming_tv_No internet service       4225 non-null   int64  \n",
      " 19  streaming_tv_Yes                       4225 non-null   int64  \n",
      " 20  streaming_movies_No internet service   4225 non-null   int64  \n",
      " 21  streaming_movies_Yes                   4225 non-null   int64  \n",
      " 22  paperless_billing_Yes                  4225 non-null   int64  \n",
      " 23  churn_Yes                              4225 non-null   int64  \n",
      " 24  contract_type_One year                 4225 non-null   int64  \n",
      " 25  contract_type_Two year                 4225 non-null   int64  \n",
      " 26  internet_service_type_Fiber optic      4225 non-null   int64  \n",
      " 27  internet_service_type_None             4225 non-null   int64  \n",
      " 28  payment_type_Credit card (automatic)   4225 non-null   int64  \n",
      " 29  payment_type_Electronic check          4225 non-null   int64  \n",
      " 30  payment_type_Mailed check              4225 non-null   int64  \n",
      "dtypes: float64(2), int64(29)\n",
      "memory usage: 1.2+ MB\n"
     ]
    }
   ],
   "source": [
    "train_encoded.info()"
   ]
  },
  {
   "cell_type": "code",
   "execution_count": null,
   "id": "f56eca3d",
   "metadata": {},
   "outputs": [],
   "source": []
  },
  {
   "cell_type": "code",
   "execution_count": null,
   "id": "4368b217",
   "metadata": {},
   "outputs": [],
   "source": []
  },
  {
   "cell_type": "code",
   "execution_count": null,
   "id": "73115bab",
   "metadata": {},
   "outputs": [],
   "source": []
  },
  {
   "cell_type": "code",
   "execution_count": null,
   "id": "cf7a3914",
   "metadata": {},
   "outputs": [],
   "source": []
  },
  {
   "cell_type": "markdown",
   "id": "ae0e87e3",
   "metadata": {},
   "source": [
    "## Explore"
   ]
  },
  {
   "cell_type": "markdown",
   "id": "4f501707",
   "metadata": {},
   "source": [
    "#### Hypothesize"
   ]
  },
  {
   "cell_type": "markdown",
   "id": "0952eddd",
   "metadata": {},
   "source": [
    "Q: Does having paperless billing affect whether or not someone churned?"
   ]
  },
  {
   "cell_type": "code",
   "execution_count": 27,
   "id": "96365584",
   "metadata": {},
   "outputs": [
    {
     "data": {
      "text/plain": [
       "churn_Yes\n",
       "0    3104\n",
       "1    1121\n",
       "Name: count, dtype: int64"
      ]
     },
     "execution_count": 27,
     "metadata": {},
     "output_type": "execute_result"
    }
   ],
   "source": [
    "train_encoded.churn_Yes.value_counts()"
   ]
  },
  {
   "cell_type": "code",
   "execution_count": 28,
   "id": "c6f37241",
   "metadata": {},
   "outputs": [
    {
     "data": {
      "text/plain": [
       "paperless_billing_Yes\n",
       "1    2507\n",
       "0    1718\n",
       "Name: count, dtype: int64"
      ]
     },
     "execution_count": 28,
     "metadata": {},
     "output_type": "execute_result"
    }
   ],
   "source": [
    "train_encoded.paperless_billing_Yes.value_counts()"
   ]
  },
  {
   "cell_type": "markdown",
   "id": "6fd655d3",
   "metadata": {},
   "source": [
    "#### Visualize"
   ]
  },
  {
   "cell_type": "code",
   "execution_count": 29,
   "id": "a00f48fc",
   "metadata": {},
   "outputs": [
    {
     "data": {
      "image/png": "[encoded data removed]",
      "text/plain": [
       "<Figure size 640x480 with 1 Axes>"
      ]
     },
     "metadata": {},
     "output_type": "display_data"
    }
   ],
   "source": [
    "#creates barplot\n",
    "ax = sns.barplot(data=train_encoded, y='churn_Yes', x='paperless_billing_Yes')\n",
    "\n",
    "# Adding a title\n",
    "ax.set(title='Churn Comparison based on Paperless Billing')\n",
    "\n",
    "# Show the plot\n",
    "plt.show()"
   ]
  },
  {
   "cell_type": "markdown",
   "id": "5cbf85d1",
   "metadata": {},
   "source": [
    "We can see that people with paperless billing have a higher rate of churn (almost double)."
   ]
  },
  {
   "cell_type": "markdown",
   "id": "1eee0f68",
   "metadata": {},
   "source": [
    "#### Analyze (with statistics)"
   ]
  },
  {
   "cell_type": "markdown",
   "id": "37957ec2",
   "metadata": {},
   "source": [
    "$H_0$: There is NO relationship between paperless billing and churn.\n",
    "\n",
    "$H_a$: There IS relationship between paperless billing and churn."
   ]
  },
  {
   "cell_type": "markdown",
   "id": "b4f87acd",
   "metadata": {},
   "source": [
    "α = 0.05"
   ]
  },
  {
   "cell_type": "code",
   "execution_count": 30,
   "id": "95ddbac9",
   "metadata": {},
   "outputs": [
    {
     "data": {
      "text/html": [
       "<div>\n",
       "<style scoped>\n",
       "    .dataframe tbody tr th:only-of-type {\n",
       "        vertical-align: middle;\n",
       "    }\n",
       "\n",
       "    .dataframe tbody tr th {\n",
       "        vertical-align: top;\n",
       "    }\n",
       "\n",
       "    .dataframe thead th {\n",
       "        text-align: right;\n",
       "    }\n",
       "</style>\n",
       "<table border=\"1\" class=\"dataframe\">\n",
       "  <thead>\n",
       "    <tr style=\"text-align: right;\">\n",
       "      <th>paperless_billing_Yes</th>\n",
       "      <th>0</th>\n",
       "      <th>1</th>\n",
       "    </tr>\n",
       "    <tr>\n",
       "      <th>churn_Yes</th>\n",
       "      <th></th>\n",
       "      <th></th>\n",
       "    </tr>\n",
       "  </thead>\n",
       "  <tbody>\n",
       "    <tr>\n",
       "      <th>0</th>\n",
       "      <td>1437</td>\n",
       "      <td>1667</td>\n",
       "    </tr>\n",
       "    <tr>\n",
       "      <th>1</th>\n",
       "      <td>281</td>\n",
       "      <td>840</td>\n",
       "    </tr>\n",
       "  </tbody>\n",
       "</table>\n",
       "</div>"
      ],
      "text/plain": [
       "paperless_billing_Yes     0     1\n",
       "churn_Yes                        \n",
       "0                      1437  1667\n",
       "1                       281   840"
      ]
     },
     "execution_count": 30,
     "metadata": {},
     "output_type": "execute_result"
    }
   ],
   "source": [
    "# creates a crosstabulation of the two columns\n",
    "observed = pd.crosstab(train_encoded.churn_Yes, train_encoded.paperless_billing_Yes)\n",
    "observed"
   ]
  },
  {
   "cell_type": "code",
   "execution_count": 31,
   "id": "d0252848",
   "metadata": {},
   "outputs": [],
   "source": [
    "#chi2 returns 4 variables\n",
    "chi2, p, dof, expected = stats.chi2_contingency(observed)"
   ]
  },
  {
   "cell_type": "code",
   "execution_count": 32,
   "id": "bcd1b67e",
   "metadata": {},
   "outputs": [
    {
     "data": {
      "text/plain": [
       "3.952227763871639e-35"
      ]
     },
     "execution_count": 32,
     "metadata": {},
     "output_type": "execute_result"
    }
   ],
   "source": [
    "p"
   ]
  },
  {
   "cell_type": "markdown",
   "id": "d94c4673",
   "metadata": {},
   "source": [
    "My p-value is less than alpha, therefore, we reject the null hypothesis.\n",
    "\n",
    "We can conclude that there is a relationship between paperless billing and churn."
   ]
  },
  {
   "cell_type": "markdown",
   "id": "30e6b533",
   "metadata": {},
   "source": [
    "#### Summarize\n",
    "\n",
    "- Write the takeaway from your question, plot, and stats test"
   ]
  },
  {
   "cell_type": "markdown",
   "id": "025fa424",
   "metadata": {},
   "source": [
    "We confirmed there is a relationship between paperless billing and churn, and that people with paperless billing, are more likely to churn."
   ]
  },
  {
   "cell_type": "code",
   "execution_count": null,
   "id": "e889a5ae",
   "metadata": {},
   "outputs": [],
   "source": []
  },
  {
   "cell_type": "markdown",
   "id": "1f94989d",
   "metadata": {},
   "source": [
    "#### Hypothesize"
   ]
  },
  {
   "cell_type": "markdown",
   "id": "7e1c2c12",
   "metadata": {},
   "source": [
    "Q2: Does being male affect whether or not someone churned?"
   ]
  },
  {
   "cell_type": "code",
   "execution_count": 33,
   "id": "abe5ba96",
   "metadata": {},
   "outputs": [
    {
     "data": {
      "text/plain": [
       "churn_Yes\n",
       "0    3104\n",
       "1    1121\n",
       "Name: count, dtype: int64"
      ]
     },
     "execution_count": 33,
     "metadata": {},
     "output_type": "execute_result"
    }
   ],
   "source": [
    "train_encoded.churn_Yes.value_counts()"
   ]
  },
  {
   "cell_type": "code",
   "execution_count": 34,
   "id": "6990be34",
   "metadata": {},
   "outputs": [
    {
     "data": {
      "text/plain": [
       "gender_Male\n",
       "1    2116\n",
       "0    2109\n",
       "Name: count, dtype: int64"
      ]
     },
     "execution_count": 34,
     "metadata": {},
     "output_type": "execute_result"
    }
   ],
   "source": [
    "train_encoded.gender_Male.value_counts()"
   ]
  },
  {
   "cell_type": "markdown",
   "id": "7933c890",
   "metadata": {},
   "source": [
    "#### Visualize"
   ]
  },
  {
   "cell_type": "code",
   "execution_count": 35,
   "id": "7b496fdb",
   "metadata": {},
   "outputs": [
    {
     "data": {
      "image/png": "[encoded data removed]",
      "text/plain": [
       "<Figure size 640x480 with 1 Axes>"
      ]
     },
     "metadata": {},
     "output_type": "display_data"
    }
   ],
   "source": [
    "#creates barplot\n",
    "bx = sns.barplot(data=train_encoded, y='churn_Yes', x='gender_Male')\n",
    "\n",
    "# Adding a title\n",
    "bx.set(title='Churn Comparison based on Gender')\n",
    "\n",
    "# Show the plot\n",
    "plt.show()"
   ]
  },
  {
   "cell_type": "markdown",
   "id": "6d424719",
   "metadata": {},
   "source": [
    "We can see that males do not have significantly higher rates of churn."
   ]
  },
  {
   "cell_type": "markdown",
   "id": "37f9d8c2",
   "metadata": {},
   "source": [
    "#### Analyze (with statistics)"
   ]
  },
  {
   "cell_type": "markdown",
   "id": "58d7a656",
   "metadata": {},
   "source": [
    "𝐻0\n",
    ": There is NO relationship between male gender and churn.\n",
    "\n",
    "𝐻𝑎\n",
    ": There IS relationship between male gender and churn.\n",
    "\n",
    "α = 0.05"
   ]
  },
  {
   "cell_type": "code",
   "execution_count": 36,
   "id": "85e77782",
   "metadata": {},
   "outputs": [
    {
     "data": {
      "text/html": [
       "<div>\n",
       "<style scoped>\n",
       "    .dataframe tbody tr th:only-of-type {\n",
       "        vertical-align: middle;\n",
       "    }\n",
       "\n",
       "    .dataframe tbody tr th {\n",
       "        vertical-align: top;\n",
       "    }\n",
       "\n",
       "    .dataframe thead th {\n",
       "        text-align: right;\n",
       "    }\n",
       "</style>\n",
       "<table border=\"1\" class=\"dataframe\">\n",
       "  <thead>\n",
       "    <tr style=\"text-align: right;\">\n",
       "      <th>gender_Male</th>\n",
       "      <th>0</th>\n",
       "      <th>1</th>\n",
       "    </tr>\n",
       "    <tr>\n",
       "      <th>churn_Yes</th>\n",
       "      <th></th>\n",
       "      <th></th>\n",
       "    </tr>\n",
       "  </thead>\n",
       "  <tbody>\n",
       "    <tr>\n",
       "      <th>0</th>\n",
       "      <td>1550</td>\n",
       "      <td>1554</td>\n",
       "    </tr>\n",
       "    <tr>\n",
       "      <th>1</th>\n",
       "      <td>559</td>\n",
       "      <td>562</td>\n",
       "    </tr>\n",
       "  </tbody>\n",
       "</table>\n",
       "</div>"
      ],
      "text/plain": [
       "gender_Male     0     1\n",
       "churn_Yes              \n",
       "0            1550  1554\n",
       "1             559   562"
      ]
     },
     "execution_count": 36,
     "metadata": {},
     "output_type": "execute_result"
    }
   ],
   "source": [
    "observed = pd.crosstab(train_encoded.churn_Yes, train_encoded.gender_Male)\n",
    "observed"
   ]
  },
  {
   "cell_type": "code",
   "execution_count": 37,
   "id": "1d09641f",
   "metadata": {},
   "outputs": [],
   "source": [
    "#chi2 returns 4 variables\n",
    "chi2, p, dof, expected = stats.chi2_contingency(observed)"
   ]
  },
  {
   "cell_type": "code",
   "execution_count": 38,
   "id": "7871c841",
   "metadata": {},
   "outputs": [
    {
     "data": {
      "text/plain": [
       "0.996031931504371"
      ]
     },
     "execution_count": 38,
     "metadata": {},
     "output_type": "execute_result"
    }
   ],
   "source": [
    "p"
   ]
  },
  {
   "cell_type": "markdown",
   "id": "1992a979",
   "metadata": {},
   "source": [
    "My p-value is greater than alpha, therefore, we fail to reject the null hypothesis.\n",
    "\n",
    "We can conclude that there is NO relationship between male gender and churn."
   ]
  },
  {
   "cell_type": "markdown",
   "id": "8cb4a8ee",
   "metadata": {},
   "source": [
    "#### Summarize\n",
    "\n",
    "- Write the takeaway from your question, plot, and stats test"
   ]
  },
  {
   "cell_type": "markdown",
   "id": "613c6890",
   "metadata": {},
   "source": [
    "We confirmed there is NO relationship between male gender and churn, and that people that are male gender, are not more likely to churn."
   ]
  },
  {
   "cell_type": "code",
   "execution_count": null,
   "id": "6a3f1b35",
   "metadata": {},
   "outputs": [],
   "source": []
  },
  {
   "cell_type": "code",
   "execution_count": null,
   "id": "ee374cb2",
   "metadata": {},
   "outputs": [],
   "source": []
  },
  {
   "cell_type": "markdown",
   "id": "6dfe7ced",
   "metadata": {},
   "source": [
    "#### Hypothesize\n",
    "\n",
    "Q3: Does having dependents affect whether or not someone churned?"
   ]
  },
  {
   "cell_type": "code",
   "execution_count": 39,
   "id": "9b8cb6cf",
   "metadata": {},
   "outputs": [
    {
     "data": {
      "text/plain": [
       "dependents_Yes\n",
       "0    2961\n",
       "1    1264\n",
       "Name: count, dtype: int64"
      ]
     },
     "execution_count": 39,
     "metadata": {},
     "output_type": "execute_result"
    }
   ],
   "source": [
    "train_encoded.dependents_Yes.value_counts()"
   ]
  },
  {
   "cell_type": "markdown",
   "id": "7d40377b",
   "metadata": {},
   "source": [
    "#### Visualize"
   ]
  },
  {
   "cell_type": "code",
   "execution_count": 40,
   "id": "41879d0e",
   "metadata": {},
   "outputs": [
    {
     "data": {
      "image/png": "[encoded data removed]",
      "text/plain": [
       "<Figure size 640x480 with 1 Axes>"
      ]
     },
     "metadata": {},
     "output_type": "display_data"
    }
   ],
   "source": [
    "#creates barplot\n",
    "cx = sns.barplot(data=train_encoded, y='churn_Yes', x='dependents_Yes')\n",
    "\n",
    "# Adding a title\n",
    "cx.set(title='Churn Comparison based on Dependents')\n",
    "\n",
    "# Show the plot\n",
    "plt.show()"
   ]
  },
  {
   "cell_type": "markdown",
   "id": "fa24c84f",
   "metadata": {},
   "source": [
    "We can see that people with dependents have a lower rate of churn (almost half)."
   ]
  },
  {
   "cell_type": "markdown",
   "id": "c30cecfd",
   "metadata": {},
   "source": [
    "#### Analyze (with statistics)"
   ]
  },
  {
   "cell_type": "markdown",
   "id": "91d55e66",
   "metadata": {},
   "source": [
    "𝐻0 : There is NO relationship between dependents and churn.\n",
    "\n",
    "𝐻𝑎 : There IS relationship between dependents and churn.\n",
    "\n",
    "α = 0.05"
   ]
  },
  {
   "cell_type": "code",
   "execution_count": 41,
   "id": "2c37a696",
   "metadata": {},
   "outputs": [
    {
     "data": {
      "text/html": [
       "<div>\n",
       "<style scoped>\n",
       "    .dataframe tbody tr th:only-of-type {\n",
       "        vertical-align: middle;\n",
       "    }\n",
       "\n",
       "    .dataframe tbody tr th {\n",
       "        vertical-align: top;\n",
       "    }\n",
       "\n",
       "    .dataframe thead th {\n",
       "        text-align: right;\n",
       "    }\n",
       "</style>\n",
       "<table border=\"1\" class=\"dataframe\">\n",
       "  <thead>\n",
       "    <tr style=\"text-align: right;\">\n",
       "      <th>dependents_Yes</th>\n",
       "      <th>0</th>\n",
       "      <th>1</th>\n",
       "    </tr>\n",
       "    <tr>\n",
       "      <th>churn_Yes</th>\n",
       "      <th></th>\n",
       "      <th></th>\n",
       "    </tr>\n",
       "  </thead>\n",
       "  <tbody>\n",
       "    <tr>\n",
       "      <th>0</th>\n",
       "      <td>2042</td>\n",
       "      <td>1062</td>\n",
       "    </tr>\n",
       "    <tr>\n",
       "      <th>1</th>\n",
       "      <td>919</td>\n",
       "      <td>202</td>\n",
       "    </tr>\n",
       "  </tbody>\n",
       "</table>\n",
       "</div>"
      ],
      "text/plain": [
       "dependents_Yes     0     1\n",
       "churn_Yes                 \n",
       "0               2042  1062\n",
       "1                919   202"
      ]
     },
     "execution_count": 41,
     "metadata": {},
     "output_type": "execute_result"
    }
   ],
   "source": [
    "observed = pd.crosstab(train_encoded.churn_Yes, train_encoded.dependents_Yes)\n",
    "observed"
   ]
  },
  {
   "cell_type": "code",
   "execution_count": 42,
   "id": "3b7e3d2c",
   "metadata": {},
   "outputs": [],
   "source": [
    "#chi2 returns 4 variables\n",
    "chi2, p, dof, expected = stats.chi2_contingency(observed)"
   ]
  },
  {
   "cell_type": "code",
   "execution_count": 43,
   "id": "3e28933a",
   "metadata": {},
   "outputs": [
    {
     "data": {
      "text/plain": [
       "4.91325418673439e-24"
      ]
     },
     "execution_count": 43,
     "metadata": {},
     "output_type": "execute_result"
    }
   ],
   "source": [
    "p"
   ]
  },
  {
   "cell_type": "markdown",
   "id": "4a643d8e",
   "metadata": {},
   "source": [
    "My p-value is less than alpha, therefore, we reject the null hypothesis.\n",
    "\n",
    "We can conclude that there is a relationship between dependents and churn."
   ]
  },
  {
   "cell_type": "markdown",
   "id": "341df9b9",
   "metadata": {},
   "source": [
    "#### Summarize"
   ]
  },
  {
   "cell_type": "markdown",
   "id": "51aa7b24",
   "metadata": {},
   "source": [
    "We confirmed there is a relationship between dependents and churn, and that people with dependents, are more likely to churn."
   ]
  },
  {
   "cell_type": "code",
   "execution_count": null,
   "id": "a7886b13",
   "metadata": {},
   "outputs": [],
   "source": []
  },
  {
   "cell_type": "code",
   "execution_count": null,
   "id": "432c8526",
   "metadata": {},
   "outputs": [],
   "source": []
  },
  {
   "cell_type": "markdown",
   "id": "692753fc",
   "metadata": {},
   "source": [
    "#### Hypothesize"
   ]
  },
  {
   "cell_type": "markdown",
   "id": "52bab73b",
   "metadata": {},
   "source": [
    "Q: Does being a senior citizen affect whether or not someone churned?"
   ]
  },
  {
   "cell_type": "code",
   "execution_count": 85,
   "id": "c4a65b31",
   "metadata": {},
   "outputs": [
    {
     "data": {
      "text/plain": [
       "senior_citizen\n",
       "0    3531\n",
       "1     694\n",
       "Name: count, dtype: int64"
      ]
     },
     "execution_count": 85,
     "metadata": {},
     "output_type": "execute_result"
    }
   ],
   "source": [
    "train_encoded.senior_citizen.value_counts()"
   ]
  },
  {
   "cell_type": "markdown",
   "id": "054423e9",
   "metadata": {},
   "source": [
    "#### Visualize"
   ]
  },
  {
   "cell_type": "code",
   "execution_count": 86,
   "id": "2fdb642e",
   "metadata": {},
   "outputs": [
    {
     "data": {
      "image/png": "[encoded data removed]",
      "text/plain": [
       "<Figure size 640x480 with 1 Axes>"
      ]
     },
     "metadata": {},
     "output_type": "display_data"
    }
   ],
   "source": [
    "#creates barplot\n",
    "dx = sns.barplot(data=train_encoded, y='churn_Yes', x='senior_citizen')\n",
    "\n",
    "# Adding a title\n",
    "dx.set(title='Churn Comparison based on Senior Citizenship')\n",
    "\n",
    "# Show the plot\n",
    "plt.show()"
   ]
  },
  {
   "cell_type": "markdown",
   "id": "121ef1d6",
   "metadata": {},
   "source": [
    "We can see that people who are senior citizens have a higher rate of churn."
   ]
  },
  {
   "cell_type": "markdown",
   "id": "2c29b058",
   "metadata": {},
   "source": [
    "#### Analyze (with statistics)"
   ]
  },
  {
   "cell_type": "markdown",
   "id": "b0508cbf",
   "metadata": {},
   "source": [
    "𝐻0 : There is NO relationship between senior citizenship and churn.\n",
    "\n",
    "𝐻𝑎 : There IS relationship between senior citizenship and churn.\n",
    "\n",
    "α = 0.05"
   ]
  },
  {
   "cell_type": "code",
   "execution_count": 87,
   "id": "a2dcf814",
   "metadata": {},
   "outputs": [
    {
     "data": {
      "text/html": [
       "<div>\n",
       "<style scoped>\n",
       "    .dataframe tbody tr th:only-of-type {\n",
       "        vertical-align: middle;\n",
       "    }\n",
       "\n",
       "    .dataframe tbody tr th {\n",
       "        vertical-align: top;\n",
       "    }\n",
       "\n",
       "    .dataframe thead th {\n",
       "        text-align: right;\n",
       "    }\n",
       "</style>\n",
       "<table border=\"1\" class=\"dataframe\">\n",
       "  <thead>\n",
       "    <tr style=\"text-align: right;\">\n",
       "      <th>senior_citizen</th>\n",
       "      <th>0</th>\n",
       "      <th>1</th>\n",
       "    </tr>\n",
       "    <tr>\n",
       "      <th>churn_Yes</th>\n",
       "      <th></th>\n",
       "      <th></th>\n",
       "    </tr>\n",
       "  </thead>\n",
       "  <tbody>\n",
       "    <tr>\n",
       "      <th>0</th>\n",
       "      <td>2696</td>\n",
       "      <td>408</td>\n",
       "    </tr>\n",
       "    <tr>\n",
       "      <th>1</th>\n",
       "      <td>835</td>\n",
       "      <td>286</td>\n",
       "    </tr>\n",
       "  </tbody>\n",
       "</table>\n",
       "</div>"
      ],
      "text/plain": [
       "senior_citizen     0    1\n",
       "churn_Yes                \n",
       "0               2696  408\n",
       "1                835  286"
      ]
     },
     "execution_count": 87,
     "metadata": {},
     "output_type": "execute_result"
    }
   ],
   "source": [
    "observed = pd.crosstab(train_encoded.churn_Yes, train_encoded.senior_citizen)\n",
    "observed"
   ]
  },
  {
   "cell_type": "code",
   "execution_count": 88,
   "id": "d3f66fcc",
   "metadata": {},
   "outputs": [],
   "source": [
    "#chi2 returns 4 variables\n",
    "chi2, p, dof, expected = stats.chi2_contingency(observed)"
   ]
  },
  {
   "cell_type": "code",
   "execution_count": 89,
   "id": "afa49485",
   "metadata": {},
   "outputs": [
    {
     "data": {
      "text/plain": [
       "1.5271938515844278e-21"
      ]
     },
     "execution_count": 89,
     "metadata": {},
     "output_type": "execute_result"
    }
   ],
   "source": [
    "p"
   ]
  },
  {
   "cell_type": "markdown",
   "id": "a854f152",
   "metadata": {},
   "source": [
    "My p-value is less than alpha, therefore, we reject the null hypothesis.\n",
    "\n",
    "We can conclude that there is a relationship between senior citizenship and churn."
   ]
  },
  {
   "cell_type": "markdown",
   "id": "ea99787d",
   "metadata": {},
   "source": [
    "#### Summarize"
   ]
  },
  {
   "cell_type": "markdown",
   "id": "dbe0a6d5",
   "metadata": {},
   "source": [
    "We confirmed there is a relationship between senior citizenship and churn, and that people with senior citizenship, are more likely to churn."
   ]
  },
  {
   "cell_type": "code",
   "execution_count": null,
   "id": "072521c9",
   "metadata": {},
   "outputs": [],
   "source": []
  },
  {
   "cell_type": "code",
   "execution_count": null,
   "id": "3e5a6a4f",
   "metadata": {},
   "outputs": [],
   "source": []
  },
  {
   "cell_type": "code",
   "execution_count": null,
   "id": "23fd4eb7",
   "metadata": {},
   "outputs": [],
   "source": []
  },
  {
   "cell_type": "code",
   "execution_count": null,
   "id": "cd5b1dcd",
   "metadata": {},
   "outputs": [],
   "source": []
  },
  {
   "cell_type": "markdown",
   "id": "972a32da",
   "metadata": {},
   "source": [
    "## Model"
   ]
  },
  {
   "cell_type": "code",
   "execution_count": 90,
   "id": "6daa47bd",
   "metadata": {},
   "outputs": [
    {
     "data": {
      "text/plain": [
       "0    No\n",
       "Name: churn, dtype: object"
      ]
     },
     "execution_count": 90,
     "metadata": {},
     "output_type": "execute_result"
    }
   ],
   "source": [
    "# obtain a baseline accuracy\n",
    "df.churn.mode()"
   ]
  },
  {
   "cell_type": "code",
   "execution_count": 92,
   "id": "d06645fa",
   "metadata": {},
   "outputs": [
    {
     "data": {
      "text/plain": [
       "0.7346301292063041"
      ]
     },
     "execution_count": 92,
     "metadata": {},
     "output_type": "execute_result"
    }
   ],
   "source": [
    "# calculates baseline accuracy\n",
    "(df.churn == 'No').mean()"
   ]
  },
  {
   "cell_type": "code",
   "execution_count": null,
   "id": "e53efbc9",
   "metadata": {},
   "outputs": [],
   "source": []
  },
  {
   "cell_type": "code",
   "execution_count": 49,
   "id": "2c957641",
   "metadata": {},
   "outputs": [],
   "source": [
    "# determine features\n",
    "X_train = train_encoded.drop(columns='churn_Yes')\n",
    "X_validate = validate_encoded.drop(columns='churn_Yes')\n",
    "X_test = test_encoded.drop(columns='churn_Yes')"
   ]
  },
  {
   "cell_type": "code",
   "execution_count": 50,
   "id": "ae46f0ff",
   "metadata": {},
   "outputs": [],
   "source": [
    "# determines target variable\n",
    "y_train = train_encoded.churn_Yes\n",
    "y_validate = validate_encoded.churn_Yes\n",
    "y_test = test_encoded.churn_Yes"
   ]
  },
  {
   "cell_type": "code",
   "execution_count": null,
   "id": "a02caa40",
   "metadata": {},
   "outputs": [],
   "source": []
  },
  {
   "cell_type": "code",
   "execution_count": 103,
   "id": "711d4bab",
   "metadata": {},
   "outputs": [
    {
     "name": "stdout",
     "output_type": "stream",
     "text": [
      "max depth of 1, the accuracy train = 0.7359, val = 0.7253\n",
      "max depth of 2, the accuracy train = 0.7837, val = 0.7878\n",
      "max depth of 3, the accuracy train = 0.7837, val = 0.7878\n",
      "max depth of 4, the accuracy train = 0.7922, val = 0.7779\n",
      "max depth of 5, the accuracy train = 0.8019, val = 0.7885\n",
      "max depth of 6, the accuracy train = 0.8097, val = 0.7864\n",
      "max depth of 7, the accuracy train = 0.8225, val = 0.7899\n",
      "max depth of 8, the accuracy train = 0.8364, val = 0.7764\n",
      "max depth of 9, the accuracy train = 0.8537, val = 0.7693\n",
      "max depth of 10, the accuracy train = 0.8776, val = 0.7615\n",
      "max depth of 11, the accuracy train = 0.8963, val = 0.7594\n",
      "max depth of 12, the accuracy train = 0.9174, val = 0.7644\n",
      "max depth of 13, the accuracy train = 0.9328, val = 0.7424\n",
      "max depth of 14, the accuracy train = 0.9422, val = 0.7516\n",
      "max depth of 15, the accuracy train = 0.956, val = 0.7402\n",
      "max depth of 16, the accuracy train = 0.9652, val = 0.7374\n",
      "max depth of 17, the accuracy train = 0.969, val = 0.7331\n",
      "max depth of 18, the accuracy train = 0.9728, val = 0.7402\n",
      "max depth of 19, the accuracy train = 0.9785, val = 0.7452\n",
      "max depth of 20, the accuracy train = 0.9827, val = 0.7317\n"
     ]
    }
   ],
   "source": [
    "# DECISION TREE\n",
    "# creates a for loop iterating 20 times with a different max depth each iteration.\n",
    "for x in range(1,21):\n",
    "    #create the decision tree object\n",
    "    tree = DecisionTreeClassifier(max_depth=x)\n",
    "    \n",
    "    #fit the object only on TRAIN DATA!\n",
    "    tree.fit(X_train, y_train)\n",
    "    \n",
    "    #calculate the accuracy for train and validate\n",
    "    acc = tree.score(X_train, y_train)\n",
    "    acc_v = tree.score(X_validate, y_validate)\n",
    "    \n",
    "    print(f'max depth of {x}, the accuracy train = {round(acc,4)}, val = {round(acc_v,4)}')"
   ]
  },
  {
   "cell_type": "markdown",
   "id": "6cb53e34",
   "metadata": {},
   "source": [
    "We can now choose the best model, that does not overfit the data. In this case I would choose a max depth of 3 because the train and validate accuracies are the closest together there and they both have a greater accuracy than the baseline."
   ]
  },
  {
   "cell_type": "markdown",
   "id": "ae4efc8b",
   "metadata": {},
   "source": [
    "### Random Forest"
   ]
  },
  {
   "cell_type": "code",
   "execution_count": 53,
   "id": "d8c1735b",
   "metadata": {
    "scrolled": true
   },
   "outputs": [
    {
     "name": "stdout",
     "output_type": "stream",
     "text": [
      "min_leaf_samples = 1, max_depth = 10, accuracy train = 0.88, val = 0.8\n",
      "min_leaf_samples = 2, max_depth = 9, accuracy train = 0.84, val = 0.81\n",
      "min_leaf_samples = 3, max_depth = 8, accuracy train = 0.83, val = 0.81\n",
      "min_leaf_samples = 4, max_depth = 7, accuracy train = 0.82, val = 0.81\n",
      "min_leaf_samples = 5, max_depth = 6, accuracy train = 0.81, val = 0.8\n",
      "min_leaf_samples = 6, max_depth = 5, accuracy train = 0.8, val = 0.8\n",
      "min_leaf_samples = 7, max_depth = 4, accuracy train = 0.8, val = 0.79\n",
      "min_leaf_samples = 8, max_depth = 3, accuracy train = 0.78, val = 0.78\n",
      "min_leaf_samples = 9, max_depth = 2, accuracy train = 0.74, val = 0.74\n",
      "min_leaf_samples = 10, max_depth = 1, accuracy train = 0.73, val = 0.73\n"
     ]
    }
   ],
   "source": [
    "# initializes an empty list named stats. Creates a for-loop that iterates 10 times each time changing max depth and min leaf samples. Then appends to the list and prints out results.\n",
    "stats = []\n",
    "\n",
    "for x in range(1,11):\n",
    "    rf = RandomForestClassifier(min_samples_leaf=x, max_depth=11-x, random_state=123)\n",
    "\n",
    "    rf.fit(X_train, y_train)\n",
    "\n",
    "    y_pred = rf.predict(X_train)\n",
    "\n",
    "    acc = rf.score(X_train, y_train)\n",
    "    acc_val = rf.score(X_validate, y_validate)\n",
    "    \n",
    "    stats.append([x, 11-x,round(acc,2),round(acc_val,2) ]) \n",
    "    \n",
    "    print(f'min_leaf_samples = {x}, max_depth = {11-x}, accuracy train = {round(acc,2)}, val = {round(acc_val,2)}')"
   ]
  },
  {
   "cell_type": "markdown",
   "id": "d29de720",
   "metadata": {},
   "source": [
    "For our Random Forest we are choosing min_leaf_samples = 6, max_depth = 5, because the train and validate accuracies are the closest. Additionally their 80% accuracy is higher than the baseline accuracy of 73%."
   ]
  },
  {
   "cell_type": "code",
   "execution_count": null,
   "id": "902ace47",
   "metadata": {},
   "outputs": [],
   "source": []
  },
  {
   "cell_type": "code",
   "execution_count": 65,
   "id": "8760ff4d",
   "metadata": {},
   "outputs": [
    {
     "data": {
      "text/html": [
       "<div>\n",
       "<style scoped>\n",
       "    .dataframe tbody tr th:only-of-type {\n",
       "        vertical-align: middle;\n",
       "    }\n",
       "\n",
       "    .dataframe tbody tr th {\n",
       "        vertical-align: top;\n",
       "    }\n",
       "\n",
       "    .dataframe thead th {\n",
       "        text-align: right;\n",
       "    }\n",
       "</style>\n",
       "<table border=\"1\" class=\"dataframe\">\n",
       "  <thead>\n",
       "    <tr style=\"text-align: right;\">\n",
       "      <th></th>\n",
       "      <th>paperless_billing_Yes</th>\n",
       "      <th>dependents_Yes</th>\n",
       "      <th>senior_citizen</th>\n",
       "    </tr>\n",
       "    <tr>\n",
       "      <th>customer_id</th>\n",
       "      <th></th>\n",
       "      <th></th>\n",
       "      <th></th>\n",
       "    </tr>\n",
       "  </thead>\n",
       "  <tbody>\n",
       "    <tr>\n",
       "      <th>4083-BFNYK</th>\n",
       "      <td>0</td>\n",
       "      <td>0</td>\n",
       "      <td>1</td>\n",
       "    </tr>\n",
       "    <tr>\n",
       "      <th>5804-LEPIM</th>\n",
       "      <td>1</td>\n",
       "      <td>0</td>\n",
       "      <td>1</td>\n",
       "    </tr>\n",
       "    <tr>\n",
       "      <th>4895-TMWIR</th>\n",
       "      <td>0</td>\n",
       "      <td>0</td>\n",
       "      <td>1</td>\n",
       "    </tr>\n",
       "    <tr>\n",
       "      <th>1342-JPNKI</th>\n",
       "      <td>1</td>\n",
       "      <td>0</td>\n",
       "      <td>0</td>\n",
       "    </tr>\n",
       "    <tr>\n",
       "      <th>3397-AVTKU</th>\n",
       "      <td>1</td>\n",
       "      <td>0</td>\n",
       "      <td>0</td>\n",
       "    </tr>\n",
       "  </tbody>\n",
       "</table>\n",
       "</div>"
      ],
      "text/plain": [
       "             paperless_billing_Yes  dependents_Yes  senior_citizen\n",
       "customer_id                                                       \n",
       "4083-BFNYK                       0               0               1\n",
       "5804-LEPIM                       1               0               1\n",
       "4895-TMWIR                       0               0               1\n",
       "1342-JPNKI                       1               0               0\n",
       "3397-AVTKU                       1               0               0"
      ]
     },
     "execution_count": 65,
     "metadata": {},
     "output_type": "execute_result"
    }
   ],
   "source": [
    "# defines what features we'd like to model around.\n",
    "features = ['paperless_billing_Yes','dependents_Yes', 'senior_citizen']\n",
    "X_train[features].head()"
   ]
  },
  {
   "cell_type": "markdown",
   "id": "80f46380",
   "metadata": {},
   "source": [
    "### Logistic Regression"
   ]
  },
  {
   "cell_type": "code",
   "execution_count": 60,
   "id": "84442452",
   "metadata": {},
   "outputs": [
    {
     "data": {
      "text/html": [
       "<style>#sk-container-id-3 {color: black;}#sk-container-id-3 pre{padding: 0;}#sk-container-id-3 div.sk-toggleable {background-color: white;}#sk-container-id-3 label.sk-toggleable__label {cursor: pointer;display: block;width: 100%;margin-bottom: 0;padding: 0.3em;box-sizing: border-box;text-align: center;}#sk-container-id-3 label.sk-toggleable__label-arrow:before {content: \"▸\";float: left;margin-right: 0.25em;color: #696969;}#sk-container-id-3 label.sk-toggleable__label-arrow:hover:before {color: black;}#sk-container-id-3 div.sk-estimator:hover label.sk-toggleable__label-arrow:before {color: black;}#sk-container-id-3 div.sk-toggleable__content {max-height: 0;max-width: 0;overflow: hidden;text-align: left;background-color: #f0f8ff;}#sk-container-id-3 div.sk-toggleable__content pre {margin: 0.2em;color: black;border-radius: 0.25em;background-color: #f0f8ff;}#sk-container-id-3 input.sk-toggleable__control:checked~div.sk-toggleable__content {max-height: 200px;max-width: 100%;overflow: auto;}#sk-container-id-3 input.sk-toggleable__control:checked~label.sk-toggleable__label-arrow:before {content: \"▾\";}#sk-container-id-3 div.sk-estimator input.sk-toggleable__control:checked~label.sk-toggleable__label {background-color: #d4ebff;}#sk-container-id-3 div.sk-label input.sk-toggleable__control:checked~label.sk-toggleable__label {background-color: #d4ebff;}#sk-container-id-3 input.sk-hidden--visually {border: 0;clip: rect(1px 1px 1px 1px);clip: rect(1px, 1px, 1px, 1px);height: 1px;margin: -1px;overflow: hidden;padding: 0;position: absolute;width: 1px;}#sk-container-id-3 div.sk-estimator {font-family: monospace;background-color: #f0f8ff;border: 1px dotted black;border-radius: 0.25em;box-sizing: border-box;margin-bottom: 0.5em;}#sk-container-id-3 div.sk-estimator:hover {background-color: #d4ebff;}#sk-container-id-3 div.sk-parallel-item::after {content: \"\";width: 100%;border-bottom: 1px solid gray;flex-grow: 1;}#sk-container-id-3 div.sk-label:hover label.sk-toggleable__label {background-color: #d4ebff;}#sk-container-id-3 div.sk-serial::before {content: \"\";position: absolute;border-left: 1px solid gray;box-sizing: border-box;top: 0;bottom: 0;left: 50%;z-index: 0;}#sk-container-id-3 div.sk-serial {display: flex;flex-direction: column;align-items: center;background-color: white;padding-right: 0.2em;padding-left: 0.2em;position: relative;}#sk-container-id-3 div.sk-item {position: relative;z-index: 1;}#sk-container-id-3 div.sk-parallel {display: flex;align-items: stretch;justify-content: center;background-color: white;position: relative;}#sk-container-id-3 div.sk-item::before, #sk-container-id-3 div.sk-parallel-item::before {content: \"\";position: absolute;border-left: 1px solid gray;box-sizing: border-box;top: 0;bottom: 0;left: 50%;z-index: -1;}#sk-container-id-3 div.sk-parallel-item {display: flex;flex-direction: column;z-index: 1;position: relative;background-color: white;}#sk-container-id-3 div.sk-parallel-item:first-child::after {align-self: flex-end;width: 50%;}#sk-container-id-3 div.sk-parallel-item:last-child::after {align-self: flex-start;width: 50%;}#sk-container-id-3 div.sk-parallel-item:only-child::after {width: 0;}#sk-container-id-3 div.sk-dashed-wrapped {border: 1px dashed gray;margin: 0 0.4em 0.5em 0.4em;box-sizing: border-box;padding-bottom: 0.4em;background-color: white;}#sk-container-id-3 div.sk-label label {font-family: monospace;font-weight: bold;display: inline-block;line-height: 1.2em;}#sk-container-id-3 div.sk-label-container {text-align: center;}#sk-container-id-3 div.sk-container {/* jupyter's `normalize.less` sets `[hidden] { display: none; }` but bootstrap.min.css set `[hidden] { display: none !important; }` so we also need the `!important` here to be able to override the default hidden behavior on the sphinx rendered scikit-learn.org. See: https://github.com/scikit-learn/scikit-learn/issues/21755 */display: inline-block !important;position: relative;}#sk-container-id-3 div.sk-text-repr-fallback {display: none;}</style><div id=\"sk-container-id-3\" class=\"sk-top-container\"><div class=\"sk-text-repr-fallback\"><pre>LogisticRegression()</pre><b>In a Jupyter environment, please rerun this cell to show the HTML representation or trust the notebook. <br />On GitHub, the HTML representation is unable to render, please try loading this page with nbviewer.org.</b></div><div class=\"sk-container\" hidden><div class=\"sk-item\"><div class=\"sk-estimator sk-toggleable\"><input class=\"sk-toggleable__control sk-hidden--visually\" id=\"sk-estimator-id-3\" type=\"checkbox\" checked><label for=\"sk-estimator-id-3\" class=\"sk-toggleable__label sk-toggleable__label-arrow\">LogisticRegression</label><div class=\"sk-toggleable__content\"><pre>LogisticRegression()</pre></div></div></div></div></div>"
      ],
      "text/plain": [
       "LogisticRegression()"
      ]
     },
     "execution_count": 60,
     "metadata": {},
     "output_type": "execute_result"
    }
   ],
   "source": [
    "# make the model\n",
    "lr = LogisticRegression()\n",
    "\n",
    "# fit the model\n",
    "lr.fit(X_train[features], y_train)"
   ]
  },
  {
   "cell_type": "code",
   "execution_count": 61,
   "id": "cbea58cb",
   "metadata": {},
   "outputs": [
    {
     "data": {
      "text/plain": [
       "0.7346745562130178"
      ]
     },
     "execution_count": 61,
     "metadata": {},
     "output_type": "execute_result"
    }
   ],
   "source": [
    "# Returns the accuracy score of the LR model\n",
    "lr.score(X_train[features], y_train)"
   ]
  },
  {
   "cell_type": "code",
   "execution_count": null,
   "id": "5e515923",
   "metadata": {},
   "outputs": [],
   "source": []
  },
  {
   "cell_type": "markdown",
   "id": "8dbcfbec",
   "metadata": {},
   "source": [
    "### CSV"
   ]
  },
  {
   "cell_type": "code",
   "execution_count": 71,
   "id": "248a556e",
   "metadata": {},
   "outputs": [
    {
     "ename": "NameError",
     "evalue": "name 'tree' is not defined",
     "output_type": "error",
     "traceback": [
      "\u001b[0;31m---------------------------------------------------------------------------\u001b[0m",
      "\u001b[0;31mNameError\u001b[0m                                 Traceback (most recent call last)",
      "Cell \u001b[0;32mIn[71], line 4\u001b[0m\n\u001b[1;32m      1\u001b[0m \u001b[38;5;66;03m# Generate CSV of overall model predictions\u001b[39;00m\n\u001b[1;32m      2\u001b[0m pd\u001b[38;5;241m.\u001b[39mDataFrame({\n\u001b[1;32m      3\u001b[0m     \u001b[38;5;124m'\u001b[39m\u001b[38;5;124mCustomer_ID\u001b[39m\u001b[38;5;124m'\u001b[39m: X_test\u001b[38;5;241m.\u001b[39mindex,\n\u001b[0;32m----> 4\u001b[0m     \u001b[38;5;124m'\u001b[39m\u001b[38;5;124mProbability of Churn\u001b[39m\u001b[38;5;124m'\u001b[39m: [prob[\u001b[38;5;241m1\u001b[39m] \u001b[38;5;28;01mfor\u001b[39;00m prob \u001b[38;5;129;01min\u001b[39;00m tree\u001b[38;5;241m.\u001b[39mpredict_proba(X_test)],\n\u001b[1;32m      5\u001b[0m     \u001b[38;5;124m'\u001b[39m\u001b[38;5;124mPrediction of Churn\u001b[39m\u001b[38;5;124m'\u001b[39m: np\u001b[38;5;241m.\u001b[39mwhere(tree\u001b[38;5;241m.\u001b[39mpredict(X_test) \u001b[38;5;241m==\u001b[39m \u001b[38;5;124m'\u001b[39m\u001b[38;5;124mYes\u001b[39m\u001b[38;5;124m'\u001b[39m, \u001b[38;5;241m1\u001b[39m, \u001b[38;5;241m0\u001b[39m)\n\u001b[1;32m      6\u001b[0m })\u001b[38;5;241m.\u001b[39mto_csv(\u001b[38;5;124m'\u001b[39m\u001b[38;5;124mpredictions.csv\u001b[39m\u001b[38;5;124m'\u001b[39m, index\u001b[38;5;241m=\u001b[39m\u001b[38;5;28;01mFalse\u001b[39;00m)\n",
      "\u001b[0;31mNameError\u001b[0m: name 'tree' is not defined"
     ]
    }
   ],
   "source": [
    "# Generate CSV of overall model predictions\n",
    "pd.DataFrame({\n",
    "    'Customer_ID': X_test.index,\n",
    "    'Probability of Churn': [prob[1] for prob in tree.predict_proba(X_test)],\n",
    "    'Prediction of Churn': np.where(tree.predict(X_test) == 'Yes', 1, 0)\n",
    "}).to_csv('predictions.csv', index=False)"
   ]
  },
  {
   "cell_type": "code",
   "execution_count": null,
   "id": "17cdcc3c",
   "metadata": {},
   "outputs": [],
   "source": []
  },
  {
   "cell_type": "code",
   "execution_count": null,
   "id": "82b1129f",
   "metadata": {},
   "outputs": [],
   "source": []
  },
  {
   "cell_type": "code",
   "execution_count": null,
   "id": "e3832f88",
   "metadata": {},
   "outputs": [],
   "source": []
  },
  {
   "cell_type": "code",
   "execution_count": null,
   "id": "0e62969f",
   "metadata": {},
   "outputs": [],
   "source": []
  },
  {
   "cell_type": "code",
   "execution_count": null,
   "id": "781423d6",
   "metadata": {},
   "outputs": [],
   "source": []
  },
  {
   "cell_type": "code",
   "execution_count": null,
   "id": "09ac9768",
   "metadata": {},
   "outputs": [],
   "source": []
  }
 ],
 "metadata": {
  "kernelspec": {
   "display_name": "Python 3 (ipykernel)",
   "language": "python",
   "name": "python3"
  },
  "language_info": {
   "codemirror_mode": {
    "name": "ipython",
    "version": 3
   },
   "file_extension": ".py",
   "mimetype": "text/x-python",
   "name": "python",
   "nbconvert_exporter": "python",
   "pygments_lexer": "ipython3",
   "version": "3.11.5"
  }
 },
 "nbformat": 4,
 "nbformat_minor": 5
}
