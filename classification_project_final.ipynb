{
 "cells": [
  {
   "cell_type": "markdown",
   "id": "eb97a769",
   "metadata": {},
   "source": [
    "# Classification Project"
   ]
  },
  {
   "cell_type": "markdown",
   "id": "d3f28e0f",
   "metadata": {},
   "source": [
    "## Goals\n",
    "    - Discover drivers of churn using telco customer data.\n",
    "    - Use drivers to develop a machine learning model to classify customers that end up churning or not.\n",
    "    - Areas of interest I looked into were paperless billing, gender, dependents, and senior citizenship."
   ]
  },
  {
   "cell_type": "markdown",
   "id": "400bbbff",
   "metadata": {},
   "source": [
    "## Imports"
   ]
  },
  {
   "cell_type": "code",
   "execution_count": 1,
   "id": "3e46e07b",
   "metadata": {},
   "outputs": [],
   "source": [
    "# custom modules for data prep:\n",
    "import acquire as a\n",
    "import prepare as p\n",
    "\n",
    "# tabular manipulation:\n",
    "import numpy as np\n",
    "import pandas as pd\n",
    "\n",
    "# ML imports:\n",
    "from sklearn.metrics import accuracy_score, precision_score, recall_score, classification_report\n",
    "from sklearn.tree import DecisionTreeClassifier, \\\n",
    "export_text, plot_tree\n",
    "from sklearn.linear_model import LogisticRegression\n",
    "from sklearn.preprocessing import OneHotEncoder\n",
    "\n",
    "# imports Random Forest model from sklearn:\n",
    "from sklearn.ensemble import RandomForestClassifier\n",
    "\n",
    "# visualization:\n",
    "import matplotlib.pyplot as plt\n",
    "import seaborn as sns\n",
    "\n",
    "# stats:\n",
    "from scipy import stats"
   ]
  },
  {
   "cell_type": "markdown",
   "id": "a601d5fb",
   "metadata": {},
   "source": [
    "## Acquire"
   ]
  },
  {
   "cell_type": "markdown",
   "id": "36f41cc7",
   "metadata": {},
   "source": [
    "- Data was acquired from the CodeUp MySQL servers.\n",
    "- Contains 7043 rows and 24 columns with each row representing a Telco customer."
   ]
  },
  {
   "cell_type": "code",
   "execution_count": 2,
   "id": "f86861b6",
   "metadata": {},
   "outputs": [
    {
     "name": "stdout",
     "output_type": "stream",
     "text": [
      "this file exists, reading from csv\n"
     ]
    },
    {
     "data": {
      "text/html": [
       "<div>\n",
       "<style scoped>\n",
       "    .dataframe tbody tr th:only-of-type {\n",
       "        vertical-align: middle;\n",
       "    }\n",
       "\n",
       "    .dataframe tbody tr th {\n",
       "        vertical-align: top;\n",
       "    }\n",
       "\n",
       "    .dataframe thead th {\n",
       "        text-align: right;\n",
       "    }\n",
       "</style>\n",
       "<table border=\"1\" class=\"dataframe\">\n",
       "  <thead>\n",
       "    <tr style=\"text-align: right;\">\n",
       "      <th></th>\n",
       "      <th>payment_type_id</th>\n",
       "      <th>internet_service_type_id</th>\n",
       "      <th>contract_type_id</th>\n",
       "      <th>customer_id</th>\n",
       "      <th>gender</th>\n",
       "      <th>senior_citizen</th>\n",
       "      <th>partner</th>\n",
       "      <th>dependents</th>\n",
       "      <th>tenure</th>\n",
       "      <th>phone_service</th>\n",
       "      <th>...</th>\n",
       "      <th>tech_support</th>\n",
       "      <th>streaming_tv</th>\n",
       "      <th>streaming_movies</th>\n",
       "      <th>paperless_billing</th>\n",
       "      <th>monthly_charges</th>\n",
       "      <th>total_charges</th>\n",
       "      <th>churn</th>\n",
       "      <th>contract_type</th>\n",
       "      <th>internet_service_type</th>\n",
       "      <th>payment_type</th>\n",
       "    </tr>\n",
       "  </thead>\n",
       "  <tbody>\n",
       "    <tr>\n",
       "      <th>0</th>\n",
       "      <td>2</td>\n",
       "      <td>1</td>\n",
       "      <td>2</td>\n",
       "      <td>0002-ORFBO</td>\n",
       "      <td>Female</td>\n",
       "      <td>0</td>\n",
       "      <td>Yes</td>\n",
       "      <td>Yes</td>\n",
       "      <td>9</td>\n",
       "      <td>Yes</td>\n",
       "      <td>...</td>\n",
       "      <td>Yes</td>\n",
       "      <td>Yes</td>\n",
       "      <td>No</td>\n",
       "      <td>Yes</td>\n",
       "      <td>65.60</td>\n",
       "      <td>593.3</td>\n",
       "      <td>No</td>\n",
       "      <td>One year</td>\n",
       "      <td>DSL</td>\n",
       "      <td>Mailed check</td>\n",
       "    </tr>\n",
       "    <tr>\n",
       "      <th>1</th>\n",
       "      <td>2</td>\n",
       "      <td>1</td>\n",
       "      <td>1</td>\n",
       "      <td>0003-MKNFE</td>\n",
       "      <td>Male</td>\n",
       "      <td>0</td>\n",
       "      <td>No</td>\n",
       "      <td>No</td>\n",
       "      <td>9</td>\n",
       "      <td>Yes</td>\n",
       "      <td>...</td>\n",
       "      <td>No</td>\n",
       "      <td>No</td>\n",
       "      <td>Yes</td>\n",
       "      <td>No</td>\n",
       "      <td>59.90</td>\n",
       "      <td>542.4</td>\n",
       "      <td>No</td>\n",
       "      <td>Month-to-month</td>\n",
       "      <td>DSL</td>\n",
       "      <td>Mailed check</td>\n",
       "    </tr>\n",
       "    <tr>\n",
       "      <th>2</th>\n",
       "      <td>1</td>\n",
       "      <td>2</td>\n",
       "      <td>1</td>\n",
       "      <td>0004-TLHLJ</td>\n",
       "      <td>Male</td>\n",
       "      <td>0</td>\n",
       "      <td>No</td>\n",
       "      <td>No</td>\n",
       "      <td>4</td>\n",
       "      <td>Yes</td>\n",
       "      <td>...</td>\n",
       "      <td>No</td>\n",
       "      <td>No</td>\n",
       "      <td>No</td>\n",
       "      <td>Yes</td>\n",
       "      <td>73.90</td>\n",
       "      <td>280.85</td>\n",
       "      <td>Yes</td>\n",
       "      <td>Month-to-month</td>\n",
       "      <td>Fiber optic</td>\n",
       "      <td>Electronic check</td>\n",
       "    </tr>\n",
       "    <tr>\n",
       "      <th>3</th>\n",
       "      <td>1</td>\n",
       "      <td>2</td>\n",
       "      <td>1</td>\n",
       "      <td>0011-IGKFF</td>\n",
       "      <td>Male</td>\n",
       "      <td>1</td>\n",
       "      <td>Yes</td>\n",
       "      <td>No</td>\n",
       "      <td>13</td>\n",
       "      <td>Yes</td>\n",
       "      <td>...</td>\n",
       "      <td>No</td>\n",
       "      <td>Yes</td>\n",
       "      <td>Yes</td>\n",
       "      <td>Yes</td>\n",
       "      <td>98.00</td>\n",
       "      <td>1237.85</td>\n",
       "      <td>Yes</td>\n",
       "      <td>Month-to-month</td>\n",
       "      <td>Fiber optic</td>\n",
       "      <td>Electronic check</td>\n",
       "    </tr>\n",
       "    <tr>\n",
       "      <th>4</th>\n",
       "      <td>2</td>\n",
       "      <td>2</td>\n",
       "      <td>1</td>\n",
       "      <td>0013-EXCHZ</td>\n",
       "      <td>Female</td>\n",
       "      <td>1</td>\n",
       "      <td>Yes</td>\n",
       "      <td>No</td>\n",
       "      <td>3</td>\n",
       "      <td>Yes</td>\n",
       "      <td>...</td>\n",
       "      <td>Yes</td>\n",
       "      <td>Yes</td>\n",
       "      <td>No</td>\n",
       "      <td>Yes</td>\n",
       "      <td>83.90</td>\n",
       "      <td>267.4</td>\n",
       "      <td>Yes</td>\n",
       "      <td>Month-to-month</td>\n",
       "      <td>Fiber optic</td>\n",
       "      <td>Mailed check</td>\n",
       "    </tr>\n",
       "    <tr>\n",
       "      <th>...</th>\n",
       "      <td>...</td>\n",
       "      <td>...</td>\n",
       "      <td>...</td>\n",
       "      <td>...</td>\n",
       "      <td>...</td>\n",
       "      <td>...</td>\n",
       "      <td>...</td>\n",
       "      <td>...</td>\n",
       "      <td>...</td>\n",
       "      <td>...</td>\n",
       "      <td>...</td>\n",
       "      <td>...</td>\n",
       "      <td>...</td>\n",
       "      <td>...</td>\n",
       "      <td>...</td>\n",
       "      <td>...</td>\n",
       "      <td>...</td>\n",
       "      <td>...</td>\n",
       "      <td>...</td>\n",
       "      <td>...</td>\n",
       "      <td>...</td>\n",
       "    </tr>\n",
       "    <tr>\n",
       "      <th>7038</th>\n",
       "      <td>2</td>\n",
       "      <td>1</td>\n",
       "      <td>2</td>\n",
       "      <td>9987-LUTYD</td>\n",
       "      <td>Female</td>\n",
       "      <td>0</td>\n",
       "      <td>No</td>\n",
       "      <td>No</td>\n",
       "      <td>13</td>\n",
       "      <td>Yes</td>\n",
       "      <td>...</td>\n",
       "      <td>Yes</td>\n",
       "      <td>No</td>\n",
       "      <td>No</td>\n",
       "      <td>No</td>\n",
       "      <td>55.15</td>\n",
       "      <td>742.9</td>\n",
       "      <td>No</td>\n",
       "      <td>One year</td>\n",
       "      <td>DSL</td>\n",
       "      <td>Mailed check</td>\n",
       "    </tr>\n",
       "    <tr>\n",
       "      <th>7039</th>\n",
       "      <td>1</td>\n",
       "      <td>2</td>\n",
       "      <td>1</td>\n",
       "      <td>9992-RRAMN</td>\n",
       "      <td>Male</td>\n",
       "      <td>0</td>\n",
       "      <td>Yes</td>\n",
       "      <td>No</td>\n",
       "      <td>22</td>\n",
       "      <td>Yes</td>\n",
       "      <td>...</td>\n",
       "      <td>No</td>\n",
       "      <td>No</td>\n",
       "      <td>Yes</td>\n",
       "      <td>Yes</td>\n",
       "      <td>85.10</td>\n",
       "      <td>1873.7</td>\n",
       "      <td>Yes</td>\n",
       "      <td>Month-to-month</td>\n",
       "      <td>Fiber optic</td>\n",
       "      <td>Electronic check</td>\n",
       "    </tr>\n",
       "    <tr>\n",
       "      <th>7040</th>\n",
       "      <td>2</td>\n",
       "      <td>1</td>\n",
       "      <td>1</td>\n",
       "      <td>9992-UJOEL</td>\n",
       "      <td>Male</td>\n",
       "      <td>0</td>\n",
       "      <td>No</td>\n",
       "      <td>No</td>\n",
       "      <td>2</td>\n",
       "      <td>Yes</td>\n",
       "      <td>...</td>\n",
       "      <td>No</td>\n",
       "      <td>No</td>\n",
       "      <td>No</td>\n",
       "      <td>Yes</td>\n",
       "      <td>50.30</td>\n",
       "      <td>92.75</td>\n",
       "      <td>No</td>\n",
       "      <td>Month-to-month</td>\n",
       "      <td>DSL</td>\n",
       "      <td>Mailed check</td>\n",
       "    </tr>\n",
       "    <tr>\n",
       "      <th>7041</th>\n",
       "      <td>2</td>\n",
       "      <td>1</td>\n",
       "      <td>3</td>\n",
       "      <td>9993-LHIEB</td>\n",
       "      <td>Male</td>\n",
       "      <td>0</td>\n",
       "      <td>Yes</td>\n",
       "      <td>Yes</td>\n",
       "      <td>67</td>\n",
       "      <td>Yes</td>\n",
       "      <td>...</td>\n",
       "      <td>Yes</td>\n",
       "      <td>No</td>\n",
       "      <td>Yes</td>\n",
       "      <td>No</td>\n",
       "      <td>67.85</td>\n",
       "      <td>4627.65</td>\n",
       "      <td>No</td>\n",
       "      <td>Two year</td>\n",
       "      <td>DSL</td>\n",
       "      <td>Mailed check</td>\n",
       "    </tr>\n",
       "    <tr>\n",
       "      <th>7042</th>\n",
       "      <td>1</td>\n",
       "      <td>1</td>\n",
       "      <td>3</td>\n",
       "      <td>9995-HOTOH</td>\n",
       "      <td>Male</td>\n",
       "      <td>0</td>\n",
       "      <td>Yes</td>\n",
       "      <td>Yes</td>\n",
       "      <td>63</td>\n",
       "      <td>No</td>\n",
       "      <td>...</td>\n",
       "      <td>No</td>\n",
       "      <td>Yes</td>\n",
       "      <td>Yes</td>\n",
       "      <td>No</td>\n",
       "      <td>59.00</td>\n",
       "      <td>3707.6</td>\n",
       "      <td>No</td>\n",
       "      <td>Two year</td>\n",
       "      <td>DSL</td>\n",
       "      <td>Electronic check</td>\n",
       "    </tr>\n",
       "  </tbody>\n",
       "</table>\n",
       "<p>7043 rows × 24 columns</p>\n",
       "</div>"
      ],
      "text/plain": [
       "      payment_type_id  internet_service_type_id  contract_type_id customer_id  \\\n",
       "0                   2                         1                 2  0002-ORFBO   \n",
       "1                   2                         1                 1  0003-MKNFE   \n",
       "2                   1                         2                 1  0004-TLHLJ   \n",
       "3                   1                         2                 1  0011-IGKFF   \n",
       "4                   2                         2                 1  0013-EXCHZ   \n",
       "...               ...                       ...               ...         ...   \n",
       "7038                2                         1                 2  9987-LUTYD   \n",
       "7039                1                         2                 1  9992-RRAMN   \n",
       "7040                2                         1                 1  9992-UJOEL   \n",
       "7041                2                         1                 3  9993-LHIEB   \n",
       "7042                1                         1                 3  9995-HOTOH   \n",
       "\n",
       "      gender  senior_citizen partner dependents  tenure phone_service  ...  \\\n",
       "0     Female               0     Yes        Yes       9           Yes  ...   \n",
       "1       Male               0      No         No       9           Yes  ...   \n",
       "2       Male               0      No         No       4           Yes  ...   \n",
       "3       Male               1     Yes         No      13           Yes  ...   \n",
       "4     Female               1     Yes         No       3           Yes  ...   \n",
       "...      ...             ...     ...        ...     ...           ...  ...   \n",
       "7038  Female               0      No         No      13           Yes  ...   \n",
       "7039    Male               0     Yes         No      22           Yes  ...   \n",
       "7040    Male               0      No         No       2           Yes  ...   \n",
       "7041    Male               0     Yes        Yes      67           Yes  ...   \n",
       "7042    Male               0     Yes        Yes      63            No  ...   \n",
       "\n",
       "     tech_support streaming_tv streaming_movies paperless_billing  \\\n",
       "0             Yes          Yes               No               Yes   \n",
       "1              No           No              Yes                No   \n",
       "2              No           No               No               Yes   \n",
       "3              No          Yes              Yes               Yes   \n",
       "4             Yes          Yes               No               Yes   \n",
       "...           ...          ...              ...               ...   \n",
       "7038          Yes           No               No                No   \n",
       "7039           No           No              Yes               Yes   \n",
       "7040           No           No               No               Yes   \n",
       "7041          Yes           No              Yes                No   \n",
       "7042           No          Yes              Yes                No   \n",
       "\n",
       "     monthly_charges total_charges churn   contract_type  \\\n",
       "0              65.60         593.3    No        One year   \n",
       "1              59.90         542.4    No  Month-to-month   \n",
       "2              73.90        280.85   Yes  Month-to-month   \n",
       "3              98.00       1237.85   Yes  Month-to-month   \n",
       "4              83.90         267.4   Yes  Month-to-month   \n",
       "...              ...           ...   ...             ...   \n",
       "7038           55.15         742.9    No        One year   \n",
       "7039           85.10        1873.7   Yes  Month-to-month   \n",
       "7040           50.30         92.75    No  Month-to-month   \n",
       "7041           67.85       4627.65    No        Two year   \n",
       "7042           59.00        3707.6    No        Two year   \n",
       "\n",
       "      internet_service_type      payment_type  \n",
       "0                       DSL      Mailed check  \n",
       "1                       DSL      Mailed check  \n",
       "2               Fiber optic  Electronic check  \n",
       "3               Fiber optic  Electronic check  \n",
       "4               Fiber optic      Mailed check  \n",
       "...                     ...               ...  \n",
       "7038                    DSL      Mailed check  \n",
       "7039            Fiber optic  Electronic check  \n",
       "7040                    DSL      Mailed check  \n",
       "7041                    DSL      Mailed check  \n",
       "7042                    DSL  Electronic check  \n",
       "\n",
       "[7043 rows x 24 columns]"
      ]
     },
     "execution_count": 2,
     "metadata": {},
     "output_type": "execute_result"
    }
   ],
   "source": [
    "# Uses the function defined in acquire.py to load the Telco data.\n",
    "df = a.get_telco_data()\n",
    "df"
   ]
  },
  {
   "cell_type": "markdown",
   "id": "f0ba411a",
   "metadata": {},
   "source": [
    "## Prepare"
   ]
  },
  {
   "cell_type": "code",
   "execution_count": 3,
   "id": "24fb9d89",
   "metadata": {},
   "outputs": [],
   "source": [
    "# Drops any unnecessary, unhelpful, or duplicated columns.\n",
    "df = df.drop(columns=['payment_type_id', 'internet_service_type_id', 'contract_type_id'])"
   ]
  },
  {
   "cell_type": "code",
   "execution_count": 4,
   "id": "0be959d3",
   "metadata": {},
   "outputs": [
    {
     "name": "stdout",
     "output_type": "stream",
     "text": [
      "<class 'pandas.core.frame.DataFrame'>\n",
      "Index: 7043 entries, 0 to 7042\n",
      "Data columns (total 21 columns):\n",
      " #   Column                 Non-Null Count  Dtype  \n",
      "---  ------                 --------------  -----  \n",
      " 0   customer_id            7043 non-null   object \n",
      " 1   gender                 7043 non-null   object \n",
      " 2   senior_citizen         7043 non-null   int64  \n",
      " 3   partner                7043 non-null   object \n",
      " 4   dependents             7043 non-null   object \n",
      " 5   tenure                 7043 non-null   int64  \n",
      " 6   phone_service          7043 non-null   object \n",
      " 7   multiple_lines         7043 non-null   object \n",
      " 8   online_security        7043 non-null   object \n",
      " 9   online_backup          7043 non-null   object \n",
      " 10  device_protection      7043 non-null   object \n",
      " 11  tech_support           7043 non-null   object \n",
      " 12  streaming_tv           7043 non-null   object \n",
      " 13  streaming_movies       7043 non-null   object \n",
      " 14  paperless_billing      7043 non-null   object \n",
      " 15  monthly_charges        7043 non-null   float64\n",
      " 16  total_charges          7043 non-null   object \n",
      " 17  churn                  7043 non-null   object \n",
      " 18  contract_type          7043 non-null   object \n",
      " 19  internet_service_type  5517 non-null   object \n",
      " 20  payment_type           7043 non-null   object \n",
      "dtypes: float64(1), int64(2), object(18)\n",
      "memory usage: 1.2+ MB\n"
     ]
    }
   ],
   "source": [
    "df.info()"
   ]
  },
  {
   "cell_type": "code",
   "execution_count": 5,
   "id": "6e91cc2d",
   "metadata": {},
   "outputs": [],
   "source": [
    "# handles the null values in internet service type by filling the null values with none.\n",
    "df['internet_service_type'] = df['internet_service_type'].fillna('None')"
   ]
  },
  {
   "cell_type": "code",
   "execution_count": 6,
   "id": "e615f186",
   "metadata": {},
   "outputs": [
    {
     "data": {
      "text/plain": [
       "internet_service_type\n",
       "Fiber optic    3096\n",
       "DSL            2421\n",
       "None           1526\n",
       "Name: count, dtype: int64"
      ]
     },
     "execution_count": 6,
     "metadata": {},
     "output_type": "execute_result"
    }
   ],
   "source": [
    "# shows the counts of all values in the internet service type column.\n",
    "df.internet_service_type.value_counts()"
   ]
  },
  {
   "cell_type": "code",
   "execution_count": 7,
   "id": "ef40d404",
   "metadata": {},
   "outputs": [],
   "source": [
    "# replaces values in the total charges column with a blank space to 0.0\n",
    "df.total_charges = df.total_charges.str.replace(' ','0.0')"
   ]
  },
  {
   "cell_type": "code",
   "execution_count": 8,
   "id": "64e3ab27",
   "metadata": {},
   "outputs": [],
   "source": [
    "# changes total_charges to a float instead of an object\n",
    "df['total_charges'] = (df.total_charges + '0').astype(float)"
   ]
  },
  {
   "cell_type": "code",
   "execution_count": 9,
   "id": "2a8f2544",
   "metadata": {},
   "outputs": [],
   "source": [
    "# sets the index using customer_id\n",
    "df = df.set_index(['customer_id'])"
   ]
  },
  {
   "cell_type": "code",
   "execution_count": 10,
   "id": "129d6078",
   "metadata": {},
   "outputs": [
    {
     "name": "stdout",
     "output_type": "stream",
     "text": [
      "<class 'pandas.core.frame.DataFrame'>\n",
      "Index: 7043 entries, 0002-ORFBO to 9995-HOTOH\n",
      "Data columns (total 20 columns):\n",
      " #   Column                 Non-Null Count  Dtype  \n",
      "---  ------                 --------------  -----  \n",
      " 0   gender                 7043 non-null   object \n",
      " 1   senior_citizen         7043 non-null   int64  \n",
      " 2   partner                7043 non-null   object \n",
      " 3   dependents             7043 non-null   object \n",
      " 4   tenure                 7043 non-null   int64  \n",
      " 5   phone_service          7043 non-null   object \n",
      " 6   multiple_lines         7043 non-null   object \n",
      " 7   online_security        7043 non-null   object \n",
      " 8   online_backup          7043 non-null   object \n",
      " 9   device_protection      7043 non-null   object \n",
      " 10  tech_support           7043 non-null   object \n",
      " 11  streaming_tv           7043 non-null   object \n",
      " 12  streaming_movies       7043 non-null   object \n",
      " 13  paperless_billing      7043 non-null   object \n",
      " 14  monthly_charges        7043 non-null   float64\n",
      " 15  total_charges          7043 non-null   float64\n",
      " 16  churn                  7043 non-null   object \n",
      " 17  contract_type          7043 non-null   object \n",
      " 18  internet_service_type  7043 non-null   object \n",
      " 19  payment_type           7043 non-null   object \n",
      "dtypes: float64(2), int64(2), object(16)\n",
      "memory usage: 1.1+ MB\n"
     ]
    }
   ],
   "source": [
    "df.info()"
   ]
  },
  {
   "cell_type": "code",
   "execution_count": 11,
   "id": "5e37c398",
   "metadata": {},
   "outputs": [
    {
     "data": {
      "text/plain": [
       "0    No\n",
       "Name: churn, dtype: object"
      ]
     },
     "execution_count": 11,
     "metadata": {},
     "output_type": "execute_result"
    }
   ],
   "source": [
    "df.churn.mode()"
   ]
  },
  {
   "cell_type": "markdown",
   "id": "f9355d50",
   "metadata": {},
   "source": [
    "#### Data Splitting & Encoding Data\n",
    "    -  it is a  60/40 split first to get the train data, then a 50/50 split on the other 40% of the data to get the validate and test."
   ]
  },
  {
   "cell_type": "code",
   "execution_count": 12,
   "id": "8bad5df7",
   "metadata": {},
   "outputs": [],
   "source": [
    "# splits df into three df's train, validate, and test\n",
    "train, validate, test = p.splitting_data(df, 'churn')"
   ]
  },
  {
   "cell_type": "code",
   "execution_count": 13,
   "id": "cc90e22f",
   "metadata": {},
   "outputs": [],
   "source": [
    "# function encodes each df's categorical columns to numbers\n",
    "train_encoded, validate_encoded, test_encoded = p.telco_encoded(train, validate, test)"
   ]
  },
  {
   "cell_type": "code",
   "execution_count": 14,
   "id": "a25a1e62",
   "metadata": {},
   "outputs": [
    {
     "data": {
      "text/plain": [
       "((4225, 31), (1409, 31), (1409, 31))"
      ]
     },
     "execution_count": 14,
     "metadata": {},
     "output_type": "execute_result"
    }
   ],
   "source": [
    "# checks the shape of all the new df's\n",
    "train_encoded.shape, validate_encoded.shape, test_encoded.shape"
   ]
  },
  {
   "cell_type": "code",
   "execution_count": 15,
   "id": "7294c361",
   "metadata": {},
   "outputs": [
    {
     "data": {
      "text/html": [
       "<div>\n",
       "<style scoped>\n",
       "    .dataframe tbody tr th:only-of-type {\n",
       "        vertical-align: middle;\n",
       "    }\n",
       "\n",
       "    .dataframe tbody tr th {\n",
       "        vertical-align: top;\n",
       "    }\n",
       "\n",
       "    .dataframe thead th {\n",
       "        text-align: right;\n",
       "    }\n",
       "</style>\n",
       "<table border=\"1\" class=\"dataframe\">\n",
       "  <thead>\n",
       "    <tr style=\"text-align: right;\">\n",
       "      <th></th>\n",
       "      <th>senior_citizen</th>\n",
       "      <th>tenure</th>\n",
       "      <th>monthly_charges</th>\n",
       "      <th>total_charges</th>\n",
       "      <th>gender_Male</th>\n",
       "      <th>partner_Yes</th>\n",
       "      <th>dependents_Yes</th>\n",
       "      <th>phone_service_Yes</th>\n",
       "      <th>multiple_lines_No phone service</th>\n",
       "      <th>multiple_lines_Yes</th>\n",
       "      <th>...</th>\n",
       "      <th>streaming_movies_Yes</th>\n",
       "      <th>paperless_billing_Yes</th>\n",
       "      <th>churn_Yes</th>\n",
       "      <th>contract_type_One year</th>\n",
       "      <th>contract_type_Two year</th>\n",
       "      <th>internet_service_type_Fiber optic</th>\n",
       "      <th>internet_service_type_None</th>\n",
       "      <th>payment_type_Credit card (automatic)</th>\n",
       "      <th>payment_type_Electronic check</th>\n",
       "      <th>payment_type_Mailed check</th>\n",
       "    </tr>\n",
       "    <tr>\n",
       "      <th>customer_id</th>\n",
       "      <th></th>\n",
       "      <th></th>\n",
       "      <th></th>\n",
       "      <th></th>\n",
       "      <th></th>\n",
       "      <th></th>\n",
       "      <th></th>\n",
       "      <th></th>\n",
       "      <th></th>\n",
       "      <th></th>\n",
       "      <th></th>\n",
       "      <th></th>\n",
       "      <th></th>\n",
       "      <th></th>\n",
       "      <th></th>\n",
       "      <th></th>\n",
       "      <th></th>\n",
       "      <th></th>\n",
       "      <th></th>\n",
       "      <th></th>\n",
       "      <th></th>\n",
       "    </tr>\n",
       "  </thead>\n",
       "  <tbody>\n",
       "    <tr>\n",
       "      <th>4083-BFNYK</th>\n",
       "      <td>1</td>\n",
       "      <td>38</td>\n",
       "      <td>95.00</td>\n",
       "      <td>3591.25</td>\n",
       "      <td>0</td>\n",
       "      <td>1</td>\n",
       "      <td>0</td>\n",
       "      <td>1</td>\n",
       "      <td>0</td>\n",
       "      <td>1</td>\n",
       "      <td>...</td>\n",
       "      <td>1</td>\n",
       "      <td>0</td>\n",
       "      <td>0</td>\n",
       "      <td>1</td>\n",
       "      <td>0</td>\n",
       "      <td>1</td>\n",
       "      <td>0</td>\n",
       "      <td>1</td>\n",
       "      <td>0</td>\n",
       "      <td>0</td>\n",
       "    </tr>\n",
       "    <tr>\n",
       "      <th>5804-LEPIM</th>\n",
       "      <td>1</td>\n",
       "      <td>2</td>\n",
       "      <td>70.35</td>\n",
       "      <td>139.05</td>\n",
       "      <td>0</td>\n",
       "      <td>0</td>\n",
       "      <td>0</td>\n",
       "      <td>1</td>\n",
       "      <td>0</td>\n",
       "      <td>0</td>\n",
       "      <td>...</td>\n",
       "      <td>0</td>\n",
       "      <td>1</td>\n",
       "      <td>1</td>\n",
       "      <td>0</td>\n",
       "      <td>0</td>\n",
       "      <td>1</td>\n",
       "      <td>0</td>\n",
       "      <td>0</td>\n",
       "      <td>1</td>\n",
       "      <td>0</td>\n",
       "    </tr>\n",
       "    <tr>\n",
       "      <th>4895-TMWIR</th>\n",
       "      <td>1</td>\n",
       "      <td>11</td>\n",
       "      <td>19.95</td>\n",
       "      <td>214.75</td>\n",
       "      <td>1</td>\n",
       "      <td>1</td>\n",
       "      <td>0</td>\n",
       "      <td>1</td>\n",
       "      <td>0</td>\n",
       "      <td>0</td>\n",
       "      <td>...</td>\n",
       "      <td>0</td>\n",
       "      <td>0</td>\n",
       "      <td>1</td>\n",
       "      <td>0</td>\n",
       "      <td>0</td>\n",
       "      <td>0</td>\n",
       "      <td>1</td>\n",
       "      <td>0</td>\n",
       "      <td>0</td>\n",
       "      <td>1</td>\n",
       "    </tr>\n",
       "    <tr>\n",
       "      <th>1342-JPNKI</th>\n",
       "      <td>0</td>\n",
       "      <td>10</td>\n",
       "      <td>86.05</td>\n",
       "      <td>834.10</td>\n",
       "      <td>1</td>\n",
       "      <td>0</td>\n",
       "      <td>0</td>\n",
       "      <td>1</td>\n",
       "      <td>0</td>\n",
       "      <td>1</td>\n",
       "      <td>...</td>\n",
       "      <td>0</td>\n",
       "      <td>1</td>\n",
       "      <td>1</td>\n",
       "      <td>0</td>\n",
       "      <td>0</td>\n",
       "      <td>1</td>\n",
       "      <td>0</td>\n",
       "      <td>0</td>\n",
       "      <td>0</td>\n",
       "      <td>0</td>\n",
       "    </tr>\n",
       "    <tr>\n",
       "      <th>3397-AVTKU</th>\n",
       "      <td>0</td>\n",
       "      <td>43</td>\n",
       "      <td>60.00</td>\n",
       "      <td>2548.55</td>\n",
       "      <td>1</td>\n",
       "      <td>0</td>\n",
       "      <td>0</td>\n",
       "      <td>1</td>\n",
       "      <td>0</td>\n",
       "      <td>0</td>\n",
       "      <td>...</td>\n",
       "      <td>1</td>\n",
       "      <td>1</td>\n",
       "      <td>0</td>\n",
       "      <td>0</td>\n",
       "      <td>1</td>\n",
       "      <td>0</td>\n",
       "      <td>0</td>\n",
       "      <td>0</td>\n",
       "      <td>1</td>\n",
       "      <td>0</td>\n",
       "    </tr>\n",
       "  </tbody>\n",
       "</table>\n",
       "<p>5 rows × 31 columns</p>\n",
       "</div>"
      ],
      "text/plain": [
       "             senior_citizen  tenure  monthly_charges  total_charges  \\\n",
       "customer_id                                                           \n",
       "4083-BFNYK                1      38            95.00        3591.25   \n",
       "5804-LEPIM                1       2            70.35         139.05   \n",
       "4895-TMWIR                1      11            19.95         214.75   \n",
       "1342-JPNKI                0      10            86.05         834.10   \n",
       "3397-AVTKU                0      43            60.00        2548.55   \n",
       "\n",
       "             gender_Male  partner_Yes  dependents_Yes  phone_service_Yes  \\\n",
       "customer_id                                                                \n",
       "4083-BFNYK             0            1               0                  1   \n",
       "5804-LEPIM             0            0               0                  1   \n",
       "4895-TMWIR             1            1               0                  1   \n",
       "1342-JPNKI             1            0               0                  1   \n",
       "3397-AVTKU             1            0               0                  1   \n",
       "\n",
       "             multiple_lines_No phone service  multiple_lines_Yes  ...  \\\n",
       "customer_id                                                       ...   \n",
       "4083-BFNYK                                 0                   1  ...   \n",
       "5804-LEPIM                                 0                   0  ...   \n",
       "4895-TMWIR                                 0                   0  ...   \n",
       "1342-JPNKI                                 0                   1  ...   \n",
       "3397-AVTKU                                 0                   0  ...   \n",
       "\n",
       "             streaming_movies_Yes  paperless_billing_Yes  churn_Yes  \\\n",
       "customer_id                                                           \n",
       "4083-BFNYK                      1                      0          0   \n",
       "5804-LEPIM                      0                      1          1   \n",
       "4895-TMWIR                      0                      0          1   \n",
       "1342-JPNKI                      0                      1          1   \n",
       "3397-AVTKU                      1                      1          0   \n",
       "\n",
       "             contract_type_One year  contract_type_Two year  \\\n",
       "customer_id                                                   \n",
       "4083-BFNYK                        1                       0   \n",
       "5804-LEPIM                        0                       0   \n",
       "4895-TMWIR                        0                       0   \n",
       "1342-JPNKI                        0                       0   \n",
       "3397-AVTKU                        0                       1   \n",
       "\n",
       "             internet_service_type_Fiber optic  internet_service_type_None  \\\n",
       "customer_id                                                                  \n",
       "4083-BFNYK                                   1                           0   \n",
       "5804-LEPIM                                   1                           0   \n",
       "4895-TMWIR                                   0                           1   \n",
       "1342-JPNKI                                   1                           0   \n",
       "3397-AVTKU                                   0                           0   \n",
       "\n",
       "             payment_type_Credit card (automatic)  \\\n",
       "customer_id                                         \n",
       "4083-BFNYK                                      1   \n",
       "5804-LEPIM                                      0   \n",
       "4895-TMWIR                                      0   \n",
       "1342-JPNKI                                      0   \n",
       "3397-AVTKU                                      0   \n",
       "\n",
       "             payment_type_Electronic check  payment_type_Mailed check  \n",
       "customer_id                                                            \n",
       "4083-BFNYK                               0                          0  \n",
       "5804-LEPIM                               1                          0  \n",
       "4895-TMWIR                               0                          1  \n",
       "1342-JPNKI                               0                          0  \n",
       "3397-AVTKU                               1                          0  \n",
       "\n",
       "[5 rows x 31 columns]"
      ]
     },
     "execution_count": 15,
     "metadata": {},
     "output_type": "execute_result"
    }
   ],
   "source": [
    "train_encoded.head()"
   ]
  },
  {
   "cell_type": "markdown",
   "id": "1dd0cfa3",
   "metadata": {},
   "source": [
    "## Explore"
   ]
  },
  {
   "cell_type": "markdown",
   "id": "d1ada0ba",
   "metadata": {},
   "source": [
    "#### Hypothesize\n",
    "    - I asked four questions of the customer data regarding churn in this section."
   ]
  },
  {
   "cell_type": "markdown",
   "id": "cc335278",
   "metadata": {},
   "source": [
    "Q1: Does having paperless billing affect whether or not someone churned?"
   ]
  },
  {
   "cell_type": "markdown",
   "id": "7d9ee417",
   "metadata": {},
   "source": [
    "#### Visualize"
   ]
  },
  {
   "cell_type": "code",
   "execution_count": 16,
   "id": "2b251045",
   "metadata": {},
   "outputs": [
    {
     "data": {
      "image/png": "[encoded data removed]",
      "text/plain": [
       "<Figure size 640x480 with 1 Axes>"
      ]
     },
     "metadata": {},
     "output_type": "display_data"
    }
   ],
   "source": [
    "#creates barplot\n",
    "ax = sns.barplot(data=train_encoded, y='churn_Yes', x='paperless_billing_Yes')\n",
    "\n",
    "# Adding a title\n",
    "ax.set(title='Churn Comparison based on Paperless Billing')\n",
    "\n",
    "# Show the plot\n",
    "plt.show()"
   ]
  },
  {
   "cell_type": "markdown",
   "id": "ab1be21d",
   "metadata": {},
   "source": [
    "We can see that people with paperless billing have a higher rate of churn (almost double)."
   ]
  },
  {
   "cell_type": "markdown",
   "id": "a84304ff",
   "metadata": {},
   "source": [
    "#### Analyze (with statistics)"
   ]
  },
  {
   "cell_type": "markdown",
   "id": "e58e3e41",
   "metadata": {},
   "source": [
    "$H_0$: There is NO relationship between paperless billing and churn.\n",
    "\n",
    "$H_a$: There IS relationship between paperless billing and churn."
   ]
  },
  {
   "cell_type": "markdown",
   "id": "dcef5bd8",
   "metadata": {},
   "source": [
    "α = 0.05"
   ]
  },
  {
   "cell_type": "code",
   "execution_count": 17,
   "id": "1f5f6521",
   "metadata": {},
   "outputs": [
    {
     "data": {
      "text/plain": [
       "3.952227763871639e-35"
      ]
     },
     "execution_count": 17,
     "metadata": {},
     "output_type": "execute_result"
    }
   ],
   "source": [
    "# creates a crosstabulation of the two columns\n",
    "observed = pd.crosstab(train_encoded.churn_Yes, train_encoded.paperless_billing_Yes)\n",
    "observed\n",
    "\n",
    "#chi2 returns 4 variables\n",
    "chi2, p, dof, expected = stats.chi2_contingency(observed)\n",
    "\n",
    "# returns p-value of chi2 stats test\n",
    "p"
   ]
  },
  {
   "cell_type": "markdown",
   "id": "d3d904a9",
   "metadata": {},
   "source": [
    "The p-value is less than alpha, therefore, we reject the null hypothesis.\n",
    "\n",
    "We can conclude that there is a relationship between paperless billing and churn."
   ]
  },
  {
   "cell_type": "markdown",
   "id": "a030f7d7",
   "metadata": {},
   "source": [
    "#### Summarize"
   ]
  },
  {
   "cell_type": "markdown",
   "id": "829fcd36",
   "metadata": {},
   "source": [
    "We confirmed there is a relationship between paperless billing and churn, and that people with paperless billing, are more likely to churn than those who do not have paperless billing."
   ]
  },
  {
   "cell_type": "markdown",
   "id": "32ccdfde",
   "metadata": {},
   "source": [
    "#### Hypothesize"
   ]
  },
  {
   "cell_type": "markdown",
   "id": "c2b76a3e",
   "metadata": {},
   "source": [
    "Q2: Does being male affect whether or not someone churned?"
   ]
  },
  {
   "cell_type": "markdown",
   "id": "62666025",
   "metadata": {},
   "source": [
    "#### Visualize"
   ]
  },
  {
   "cell_type": "code",
   "execution_count": 18,
   "id": "59575206",
   "metadata": {},
   "outputs": [
    {
     "data": {
      "image/png": "[encoded data removed]",
      "text/plain": [
       "<Figure size 640x480 with 1 Axes>"
      ]
     },
     "metadata": {},
     "output_type": "display_data"
    }
   ],
   "source": [
    "#creates barplot\n",
    "bx = sns.barplot(data=train_encoded, y='churn_Yes', x='gender_Male')\n",
    "\n",
    "# Adding a title\n",
    "bx.set(title='Churn Comparison based on Gender')\n",
    "\n",
    "# Show the plot\n",
    "plt.show()"
   ]
  },
  {
   "cell_type": "markdown",
   "id": "173fb0a7",
   "metadata": {},
   "source": [
    "We can see that males do not have significantly higher rates of churn.\n",
    "\n",
    "#### Analyze (with statistics)\n",
    "\n",
    "𝐻0 : There is NO relationship between male gender and churn.\n",
    "\n",
    "𝐻𝑎 : There IS relationship between male gender and churn.\n",
    "\n",
    "α = 0.05"
   ]
  },
  {
   "cell_type": "code",
   "execution_count": 19,
   "id": "ccc4a938",
   "metadata": {},
   "outputs": [
    {
     "data": {
      "text/plain": [
       "0.996031931504371"
      ]
     },
     "execution_count": 19,
     "metadata": {},
     "output_type": "execute_result"
    }
   ],
   "source": [
    "# creates a crosstabulation of the two columns\n",
    "observed = pd.crosstab(train_encoded.churn_Yes, train_encoded.gender_Male)\n",
    "observed\n",
    "\n",
    "#chi2 returns 4 variables\n",
    "chi2, p, dof, expected = stats.chi2_contingency(observed)\n",
    "\n",
    "# returns p-value of chi2 stats test\n",
    "p"
   ]
  },
  {
   "cell_type": "markdown",
   "id": "6d295ef1",
   "metadata": {},
   "source": [
    "My p-value is greater than alpha, therefore, we fail to reject the null hypothesis.\n",
    "\n",
    "We can conclude that there is NO relationship between male gender and churn.\n",
    "\n",
    "#### Summarize\n",
    "\n",
    "We confirmed there is NO relationship between male gender and churn, and that people that are male gender, are not more likely to churn."
   ]
  },
  {
   "cell_type": "markdown",
   "id": "6028f59a",
   "metadata": {},
   "source": [
    "#### Hypothesize\n",
    "\n",
    "Q3: Does having dependents affect whether or not someone churned?"
   ]
  },
  {
   "cell_type": "markdown",
   "id": "90e2903d",
   "metadata": {},
   "source": [
    "#### Visualize"
   ]
  },
  {
   "cell_type": "code",
   "execution_count": 20,
   "id": "76372cfd",
   "metadata": {},
   "outputs": [
    {
     "data": {
      "image/png": "[encoded data removed]",
      "text/plain": [
       "<Figure size 640x480 with 1 Axes>"
      ]
     },
     "metadata": {},
     "output_type": "display_data"
    }
   ],
   "source": [
    "#creates barplot\n",
    "cx = sns.barplot(data=train_encoded, y='churn_Yes', x='dependents_Yes')\n",
    "\n",
    "# Adding a title\n",
    "cx.set(title='Churn Comparison based on Dependents')\n",
    "\n",
    "# Show the plot\n",
    "plt.show()"
   ]
  },
  {
   "cell_type": "markdown",
   "id": "6fbe998d",
   "metadata": {},
   "source": [
    "We can see that people with dependents have a lower rate of churn (almost half).\n",
    "\n",
    "#### Analyze (with statistics)\n",
    "\n",
    "𝐻0 : There is NO relationship between dependents and churn.\n",
    "\n",
    "𝐻𝑎 : There IS relationship between dependents and churn.\n",
    "\n",
    "α = 0.05"
   ]
  },
  {
   "cell_type": "code",
   "execution_count": 21,
   "id": "257ce74a",
   "metadata": {},
   "outputs": [
    {
     "data": {
      "text/plain": [
       "4.91325418673439e-24"
      ]
     },
     "execution_count": 21,
     "metadata": {},
     "output_type": "execute_result"
    }
   ],
   "source": [
    "# creates a crosstabulation of the two columns\n",
    "observed = pd.crosstab(train_encoded.churn_Yes, train_encoded.dependents_Yes)\n",
    "observed\n",
    "\n",
    "#chi2 returns 4 variables\n",
    "chi2, p, dof, expected = stats.chi2_contingency(observed)\n",
    "\n",
    "# returns p-value of chi2 stats test\n",
    "p"
   ]
  },
  {
   "cell_type": "markdown",
   "id": "4841780c",
   "metadata": {},
   "source": [
    "The p-value is less than alpha, therefore, we reject the null hypothesis.\n",
    "\n",
    "We can conclude that there is a relationship between dependents and churn.\n",
    "\n",
    "#### Summarize\n",
    "\n",
    "We confirmed there is a relationship between dependents and churn, and that people with dependents, are more likely to churn."
   ]
  },
  {
   "cell_type": "markdown",
   "id": "2cbfd9e7",
   "metadata": {},
   "source": [
    "#### Hypothesize\n",
    "\n",
    "Q4: Does being a senior citizen affect whether or not someone churned?"
   ]
  },
  {
   "cell_type": "markdown",
   "id": "c210e0be",
   "metadata": {},
   "source": [
    "#### Visualize"
   ]
  },
  {
   "cell_type": "code",
   "execution_count": 22,
   "id": "073eca00",
   "metadata": {},
   "outputs": [
    {
     "data": {
      "image/png": "[encoded data removed]",
      "text/plain": [
       "<Figure size 640x480 with 1 Axes>"
      ]
     },
     "metadata": {},
     "output_type": "display_data"
    }
   ],
   "source": [
    "#creates barplot\n",
    "dx = sns.barplot(data=train_encoded, y='churn_Yes', x='senior_citizen')\n",
    "\n",
    "# Adding a title\n",
    "dx.set(title='Churn Comparison based on Senior Citizenship')\n",
    "\n",
    "# Show the plot\n",
    "plt.show()"
   ]
  },
  {
   "cell_type": "markdown",
   "id": "e19cb774",
   "metadata": {},
   "source": [
    "We can see that people who are senior citizens have a higher rate of churn.\n",
    "\n",
    "#### Analyze (with statistics)\n",
    "\n",
    "𝐻0 : There is NO relationship between senior citizenship and churn.\n",
    "\n",
    "𝐻𝑎 : There IS relationship between senior citizenship and churn.\n",
    "\n",
    "α = 0.05"
   ]
  },
  {
   "cell_type": "code",
   "execution_count": 23,
   "id": "1d941fbc",
   "metadata": {},
   "outputs": [
    {
     "data": {
      "text/plain": [
       "1.5271938515844278e-21"
      ]
     },
     "execution_count": 23,
     "metadata": {},
     "output_type": "execute_result"
    }
   ],
   "source": [
    "# creates a crosstabulation of the two columns\n",
    "observed = pd.crosstab(train_encoded.churn_Yes, train_encoded.senior_citizen)\n",
    "observed\n",
    "\n",
    "#chi2 returns 4 variables\n",
    "chi2, p, dof, expected = stats.chi2_contingency(observed)\n",
    "\n",
    "# returns p-value of chi2 stats test\n",
    "p"
   ]
  },
  {
   "cell_type": "markdown",
   "id": "9243a62d",
   "metadata": {},
   "source": [
    "My p-value is less than alpha, therefore, we reject the null hypothesis.\n",
    "\n",
    "We can conclude that there is a relationship between senior citizenship and churn.\n",
    "\n",
    "#### Summarize\n",
    "\n",
    "We confirmed there is a relationship between senior citizenship and churn, and that people with senior citizenship, are more likely to churn."
   ]
  },
  {
   "cell_type": "markdown",
   "id": "b210b19a",
   "metadata": {},
   "source": [
    "## Modeling"
   ]
  },
  {
   "cell_type": "code",
   "execution_count": 24,
   "id": "68a96de9",
   "metadata": {},
   "outputs": [
    {
     "data": {
      "text/plain": [
       "0.7346301292063041"
      ]
     },
     "execution_count": 24,
     "metadata": {},
     "output_type": "execute_result"
    }
   ],
   "source": [
    "# calculates baseline accuracy\n",
    "(df.churn == 'No').mean()"
   ]
  },
  {
   "cell_type": "code",
   "execution_count": 25,
   "id": "cc8f72c8",
   "metadata": {},
   "outputs": [],
   "source": [
    "# determine features\n",
    "X_train = train_encoded.drop(columns='churn_Yes')\n",
    "X_validate = validate_encoded.drop(columns='churn_Yes')\n",
    "X_test = test_encoded.drop(columns='churn_Yes')"
   ]
  },
  {
   "cell_type": "code",
   "execution_count": 26,
   "id": "94dd174f",
   "metadata": {},
   "outputs": [],
   "source": [
    "# determines target variable\n",
    "y_train = train_encoded.churn_Yes\n",
    "y_validate = validate_encoded.churn_Yes\n",
    "y_test = test_encoded.churn_Yes"
   ]
  },
  {
   "cell_type": "markdown",
   "id": "bcf827e8",
   "metadata": {},
   "source": [
    "### Decision Tree"
   ]
  },
  {
   "cell_type": "code",
   "execution_count": 27,
   "id": "ccfd2fc4",
   "metadata": {},
   "outputs": [
    {
     "name": "stdout",
     "output_type": "stream",
     "text": [
      "With a max depth of 3, the accuracy train = 0.784, val = 0.788\n"
     ]
    }
   ],
   "source": [
    "# create the decision tree object\n",
    "tree = DecisionTreeClassifier(max_depth=3)\n",
    "    \n",
    "# fits the object only on train data\n",
    "tree.fit(X_train, y_train)\n",
    "    \n",
    "# calculates the accuracy for train and validate\n",
    "acc = tree.score(X_train, y_train)\n",
    "acc_v = tree.score(X_validate, y_validate)\n",
    "    \n",
    "print(f'With a max depth of 3, the accuracy train = {round(acc,3)}, val = {round(acc_v,3)}')"
   ]
  },
  {
   "cell_type": "markdown",
   "id": "cafcc98f",
   "metadata": {},
   "source": [
    "In this case I chose a max depth of 3 because the train and validate accuracies are the closest together there and they both have a greater accuracy than the baseline."
   ]
  },
  {
   "cell_type": "markdown",
   "id": "e6f029c9",
   "metadata": {},
   "source": [
    "### Logistic Regression"
   ]
  },
  {
   "cell_type": "code",
   "execution_count": 28,
   "id": "c30e01a0",
   "metadata": {},
   "outputs": [
    {
     "data": {
      "text/html": [
       "<div>\n",
       "<style scoped>\n",
       "    .dataframe tbody tr th:only-of-type {\n",
       "        vertical-align: middle;\n",
       "    }\n",
       "\n",
       "    .dataframe tbody tr th {\n",
       "        vertical-align: top;\n",
       "    }\n",
       "\n",
       "    .dataframe thead th {\n",
       "        text-align: right;\n",
       "    }\n",
       "</style>\n",
       "<table border=\"1\" class=\"dataframe\">\n",
       "  <thead>\n",
       "    <tr style=\"text-align: right;\">\n",
       "      <th></th>\n",
       "      <th>paperless_billing_Yes</th>\n",
       "      <th>dependents_Yes</th>\n",
       "      <th>senior_citizen</th>\n",
       "    </tr>\n",
       "    <tr>\n",
       "      <th>customer_id</th>\n",
       "      <th></th>\n",
       "      <th></th>\n",
       "      <th></th>\n",
       "    </tr>\n",
       "  </thead>\n",
       "  <tbody>\n",
       "    <tr>\n",
       "      <th>4083-BFNYK</th>\n",
       "      <td>0</td>\n",
       "      <td>0</td>\n",
       "      <td>1</td>\n",
       "    </tr>\n",
       "    <tr>\n",
       "      <th>5804-LEPIM</th>\n",
       "      <td>1</td>\n",
       "      <td>0</td>\n",
       "      <td>1</td>\n",
       "    </tr>\n",
       "    <tr>\n",
       "      <th>4895-TMWIR</th>\n",
       "      <td>0</td>\n",
       "      <td>0</td>\n",
       "      <td>1</td>\n",
       "    </tr>\n",
       "    <tr>\n",
       "      <th>1342-JPNKI</th>\n",
       "      <td>1</td>\n",
       "      <td>0</td>\n",
       "      <td>0</td>\n",
       "    </tr>\n",
       "    <tr>\n",
       "      <th>3397-AVTKU</th>\n",
       "      <td>1</td>\n",
       "      <td>0</td>\n",
       "      <td>0</td>\n",
       "    </tr>\n",
       "  </tbody>\n",
       "</table>\n",
       "</div>"
      ],
      "text/plain": [
       "             paperless_billing_Yes  dependents_Yes  senior_citizen\n",
       "customer_id                                                       \n",
       "4083-BFNYK                       0               0               1\n",
       "5804-LEPIM                       1               0               1\n",
       "4895-TMWIR                       0               0               1\n",
       "1342-JPNKI                       1               0               0\n",
       "3397-AVTKU                       1               0               0"
      ]
     },
     "execution_count": 28,
     "metadata": {},
     "output_type": "execute_result"
    }
   ],
   "source": [
    "# defines what features we'd like to model around.\n",
    "features = ['paperless_billing_Yes','dependents_Yes', 'senior_citizen']\n",
    "X_train[features].head()"
   ]
  },
  {
   "cell_type": "code",
   "execution_count": 29,
   "id": "997fa188",
   "metadata": {},
   "outputs": [
    {
     "data": {
      "text/html": [
       "<style>#sk-container-id-1 {color: black;}#sk-container-id-1 pre{padding: 0;}#sk-container-id-1 div.sk-toggleable {background-color: white;}#sk-container-id-1 label.sk-toggleable__label {cursor: pointer;display: block;width: 100%;margin-bottom: 0;padding: 0.3em;box-sizing: border-box;text-align: center;}#sk-container-id-1 label.sk-toggleable__label-arrow:before {content: \"▸\";float: left;margin-right: 0.25em;color: #696969;}#sk-container-id-1 label.sk-toggleable__label-arrow:hover:before {color: black;}#sk-container-id-1 div.sk-estimator:hover label.sk-toggleable__label-arrow:before {color: black;}#sk-container-id-1 div.sk-toggleable__content {max-height: 0;max-width: 0;overflow: hidden;text-align: left;background-color: #f0f8ff;}#sk-container-id-1 div.sk-toggleable__content pre {margin: 0.2em;color: black;border-radius: 0.25em;background-color: #f0f8ff;}#sk-container-id-1 input.sk-toggleable__control:checked~div.sk-toggleable__content {max-height: 200px;max-width: 100%;overflow: auto;}#sk-container-id-1 input.sk-toggleable__control:checked~label.sk-toggleable__label-arrow:before {content: \"▾\";}#sk-container-id-1 div.sk-estimator input.sk-toggleable__control:checked~label.sk-toggleable__label {background-color: #d4ebff;}#sk-container-id-1 div.sk-label input.sk-toggleable__control:checked~label.sk-toggleable__label {background-color: #d4ebff;}#sk-container-id-1 input.sk-hidden--visually {border: 0;clip: rect(1px 1px 1px 1px);clip: rect(1px, 1px, 1px, 1px);height: 1px;margin: -1px;overflow: hidden;padding: 0;position: absolute;width: 1px;}#sk-container-id-1 div.sk-estimator {font-family: monospace;background-color: #f0f8ff;border: 1px dotted black;border-radius: 0.25em;box-sizing: border-box;margin-bottom: 0.5em;}#sk-container-id-1 div.sk-estimator:hover {background-color: #d4ebff;}#sk-container-id-1 div.sk-parallel-item::after {content: \"\";width: 100%;border-bottom: 1px solid gray;flex-grow: 1;}#sk-container-id-1 div.sk-label:hover label.sk-toggleable__label {background-color: #d4ebff;}#sk-container-id-1 div.sk-serial::before {content: \"\";position: absolute;border-left: 1px solid gray;box-sizing: border-box;top: 0;bottom: 0;left: 50%;z-index: 0;}#sk-container-id-1 div.sk-serial {display: flex;flex-direction: column;align-items: center;background-color: white;padding-right: 0.2em;padding-left: 0.2em;position: relative;}#sk-container-id-1 div.sk-item {position: relative;z-index: 1;}#sk-container-id-1 div.sk-parallel {display: flex;align-items: stretch;justify-content: center;background-color: white;position: relative;}#sk-container-id-1 div.sk-item::before, #sk-container-id-1 div.sk-parallel-item::before {content: \"\";position: absolute;border-left: 1px solid gray;box-sizing: border-box;top: 0;bottom: 0;left: 50%;z-index: -1;}#sk-container-id-1 div.sk-parallel-item {display: flex;flex-direction: column;z-index: 1;position: relative;background-color: white;}#sk-container-id-1 div.sk-parallel-item:first-child::after {align-self: flex-end;width: 50%;}#sk-container-id-1 div.sk-parallel-item:last-child::after {align-self: flex-start;width: 50%;}#sk-container-id-1 div.sk-parallel-item:only-child::after {width: 0;}#sk-container-id-1 div.sk-dashed-wrapped {border: 1px dashed gray;margin: 0 0.4em 0.5em 0.4em;box-sizing: border-box;padding-bottom: 0.4em;background-color: white;}#sk-container-id-1 div.sk-label label {font-family: monospace;font-weight: bold;display: inline-block;line-height: 1.2em;}#sk-container-id-1 div.sk-label-container {text-align: center;}#sk-container-id-1 div.sk-container {/* jupyter's `normalize.less` sets `[hidden] { display: none; }` but bootstrap.min.css set `[hidden] { display: none !important; }` so we also need the `!important` here to be able to override the default hidden behavior on the sphinx rendered scikit-learn.org. See: https://github.com/scikit-learn/scikit-learn/issues/21755 */display: inline-block !important;position: relative;}#sk-container-id-1 div.sk-text-repr-fallback {display: none;}</style><div id=\"sk-container-id-1\" class=\"sk-top-container\"><div class=\"sk-text-repr-fallback\"><pre>LogisticRegression()</pre><b>In a Jupyter environment, please rerun this cell to show the HTML representation or trust the notebook. <br />On GitHub, the HTML representation is unable to render, please try loading this page with nbviewer.org.</b></div><div class=\"sk-container\" hidden><div class=\"sk-item\"><div class=\"sk-estimator sk-toggleable\"><input class=\"sk-toggleable__control sk-hidden--visually\" id=\"sk-estimator-id-1\" type=\"checkbox\" checked><label for=\"sk-estimator-id-1\" class=\"sk-toggleable__label sk-toggleable__label-arrow\">LogisticRegression</label><div class=\"sk-toggleable__content\"><pre>LogisticRegression()</pre></div></div></div></div></div>"
      ],
      "text/plain": [
       "LogisticRegression()"
      ]
     },
     "execution_count": 29,
     "metadata": {},
     "output_type": "execute_result"
    }
   ],
   "source": [
    "# make the model\n",
    "lr = LogisticRegression()\n",
    "\n",
    "# fit the model\n",
    "lr.fit(X_train[features], y_train)"
   ]
  },
  {
   "cell_type": "code",
   "execution_count": 30,
   "id": "d1b54592",
   "metadata": {},
   "outputs": [
    {
     "data": {
      "text/plain": [
       "0.7346745562130178"
      ]
     },
     "execution_count": 30,
     "metadata": {},
     "output_type": "execute_result"
    }
   ],
   "source": [
    "# Returns the accuracy score of the LR model\n",
    "lr.score(X_train[features], y_train)"
   ]
  },
  {
   "cell_type": "markdown",
   "id": "4bbd4dfc",
   "metadata": {},
   "source": [
    "The logistic Regression model has an accuracy similar to that of the baseline, so we will most likely not use our test data on this model."
   ]
  },
  {
   "cell_type": "markdown",
   "id": "5dcb64b7",
   "metadata": {},
   "source": [
    "### Random Forest"
   ]
  },
  {
   "cell_type": "code",
   "execution_count": 31,
   "id": "2284f61c",
   "metadata": {},
   "outputs": [
    {
     "name": "stdout",
     "output_type": "stream",
     "text": [
      "min_leaf_samples = 6, max_depth = 5, accuracy train = 0.802, val = 0.797\n"
     ]
    }
   ],
   "source": [
    "# creates the random forest object\n",
    "rf = RandomForestClassifier(min_samples_leaf=6, max_depth=5, random_state=123)\n",
    "\n",
    "# fits the object only on train data\n",
    "rf.fit(X_train, y_train)\n",
    "\n",
    "# saves the predictions of X_train to a variable y_pred\n",
    "y_pred = rf.predict(X_train)\n",
    "\n",
    "# calculates the accuracy for train, validate, and test\n",
    "acc = rf.score(X_train, y_train)\n",
    "acc_val = rf.score(X_validate, y_validate)\n",
    "\n",
    "print(f'min_leaf_samples = 6, max_depth = 5, accuracy train = {round(acc,3)}, val = {round(acc_val,3)}')"
   ]
  },
  {
   "cell_type": "markdown",
   "id": "eda1fb57",
   "metadata": {},
   "source": [
    "For the Random Forest model we are choosing min_leaf_samples = 6, max_depth = 5, because their train and validate accuracies are the closest. Additionally their 80% accuracy is higher than the baseline accuracy of 73%."
   ]
  },
  {
   "cell_type": "markdown",
   "id": "e56b35f8",
   "metadata": {},
   "source": [
    "#### Choose the best model from the validation performation, and evaluate it on the test dataset\n",
    "- Random Forest"
   ]
  },
  {
   "cell_type": "markdown",
   "id": "39177f9e",
   "metadata": {},
   "source": [
    "### Best Model - Random Forest (Test)"
   ]
  },
  {
   "cell_type": "code",
   "execution_count": 51,
   "id": "0d38b4ac",
   "metadata": {},
   "outputs": [
    {
     "name": "stdout",
     "output_type": "stream",
     "text": [
      "min_leaf_samples = 6, max_depth = 5, accuracy test = 0.795\n"
     ]
    }
   ],
   "source": [
    "# creates the random forest object\n",
    "rf = RandomForestClassifier(min_samples_leaf=6, max_depth=5, random_state=123)\n",
    "\n",
    "# fits the object only on train data\n",
    "rf.fit(X_train, y_train)\n",
    "\n",
    "# saves the predictions of X_test to a variable y_pred\n",
    "y_pred = rf.predict(X_test)\n",
    "\n",
    "# calculates the accuracy for test\n",
    "acc_test = rf.score(X_test, y_test)\n",
    "\n",
    "print(f'min_leaf_samples = 6, max_depth = 5, accuracy test = {round(acc_test,3)}')"
   ]
  },
  {
   "cell_type": "markdown",
   "id": "09ade3e3",
   "metadata": {},
   "source": [
    "### Modeling Summary"
   ]
  },
  {
   "cell_type": "markdown",
   "id": "c6d4de90",
   "metadata": {},
   "source": [
    "- The logistic regression model had the worst accuracy which was par with the baseline accuracy on train and validate.\n",
    "\n",
    "- The decision tree model had a slightly better accuracy than the baseline on train and validate.\n",
    "\n",
    "- Finally, the best model of all turned out to be the random forest model with the highest accuracy of the three models. When modeling on test data it had an accuracy of about 80%."
   ]
  },
  {
   "cell_type": "markdown",
   "id": "47faa96e",
   "metadata": {},
   "source": [
    "## Conclusion"
   ]
  },
  {
   "cell_type": "markdown",
   "id": "ff620a09",
   "metadata": {},
   "source": [
    "Q1: Does having paperless billing affect whether or not someone churned?\n",
    "    \n",
    "    A: We confirmed there is a relationship between paperless billing and churn, and that people with paperless billing, are more likely to churn than those who do not have paperless billing.\n",
    "\n",
    "Q2: Does being male affect whether or not someone churned?\n",
    "    \n",
    "    A: We confirmed there is NO relationship between male gender and churn, and that people that are male gender, are not more likely to churn.\n",
    "\n",
    "Q3: Does having dependents affect whether or not someone churned?\n",
    "    \n",
    "    A: We confirmed there is a relationship between dependents and churn, and that people with dependents, are more likely to churn.\n",
    "\n",
    "Q4: Does being a senior citizen affect whether or not someone churned?\n",
    "    \n",
    "    A: We confirmed there is a relationship between senior citizenship and churn, and that people with senior citizenship, are more likely to churn."
   ]
  },
  {
   "cell_type": "markdown",
   "id": "5c6615f2",
   "metadata": {},
   "source": [
    "### Reccomendations"
   ]
  },
  {
   "cell_type": "markdown",
   "id": "6e0e18ef",
   "metadata": {},
   "source": [
    "- To help reduce churn, lowering monthly charges for senior citizens without dependents and with paperless billing could perhaps get more customers to stay."
   ]
  },
  {
   "cell_type": "markdown",
   "id": "fe4e39e0",
   "metadata": {},
   "source": [
    "### Next Steps"
   ]
  },
  {
   "cell_type": "markdown",
   "id": "48d04a35",
   "metadata": {},
   "source": [
    "- If I had more time to explore the data I would look to see if customers with partners were more inclined to churn."
   ]
  }
 ],
 "metadata": {
  "kernelspec": {
   "display_name": "Python 3 (ipykernel)",
   "language": "python",
   "name": "python3"
  },
  "language_info": {
   "codemirror_mode": {
    "name": "ipython",
    "version": 3
   },
   "file_extension": ".py",
   "mimetype": "text/x-python",
   "name": "python",
   "nbconvert_exporter": "python",
   "pygments_lexer": "ipython3",
   "version": "3.11.5"
  }
 },
 "nbformat": 4,
 "nbformat_minor": 5
}
